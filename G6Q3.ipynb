{
 "cells": [
  {
   "cell_type": "code",
   "execution_count": 1,
   "id": "8cedd214",
   "metadata": {},
   "outputs": [
    {
     "name": "stderr",
     "output_type": "stream",
     "text": [
      "WARNING: An illegal reflective access operation has occurred\n",
      "WARNING: Illegal reflective access by org.apache.spark.unsafe.Platform (file:/opt/spark/jars/spark-unsafe_2.12-3.2.3.jar) to constructor java.nio.DirectByteBuffer(long,int)\n",
      "WARNING: Please consider reporting this to the maintainers of org.apache.spark.unsafe.Platform\n",
      "WARNING: Use --illegal-access=warn to enable warnings of further illegal reflective access operations\n",
      "WARNING: All illegal access operations will be denied in a future release\n",
      "Using Spark's default log4j profile: org/apache/spark/log4j-defaults.properties\n",
      "Setting default log level to \"WARN\".\n",
      "To adjust logging level use sc.setLogLevel(newLevel). For SparkR, use setLogLevel(newLevel).\n",
      "23/03/12 16:44:06 WARN NativeCodeLoader: Unable to load native-hadoop library for your platform... using builtin-java classes where applicable\n",
      "23/03/12 16:44:08 WARN Utils: Service 'SparkUI' could not bind on port 4040. Attempting port 4041.\n"
     ]
    }
   ],
   "source": [
    "from pyspark.sql import SparkSession\n",
    "\n",
    "spark_session = SparkSession.builder\\\n",
    "        .master(\"spark://192.168.2.97:7077\") \\\n",
    "        .appName(\"Q3\")\\\n",
    "        .config(\"spark.dynamicAllocation.enabled\", True)\\\n",
    "        .config(\"spark.dynamicAllocation.shuffleTracking.enabled\",True)\\\n",
    "        .config(\"spark.cores.max\", 2)\\\n",
    "        .getOrCreate()\n",
    "\n",
    "spark_context = spark_session.sparkContext\n",
    "        #.config(\"spark.jars.packages\", \"uk.co.gresearch.spark:spark-extension_2.12:2.4.0-3.3\")\\\n",
    "spark_context.setLogLevel(\"ERROR\")"
   ]
  },
  {
   "cell_type": "code",
   "execution_count": 2,
   "id": "c4a54b6a",
   "metadata": {
    "scrolled": true
   },
   "outputs": [
    {
     "name": "stderr",
     "output_type": "stream",
     "text": [
      "                                                                                \r"
     ]
    }
   ],
   "source": [
    "redComm1 = spark_session.read.json(\"hdfs://192.168.2.97:50000/user/ubuntu/RC_2008-03.json\")\n",
    "redComm2 = spark_session.read.json(\"hdfs://192.168.2.97:50000/user/ubuntu/RC_2008-04.json\")"
   ]
  },
  {
   "cell_type": "code",
   "execution_count": 3,
   "id": "782f6a9e",
   "metadata": {},
   "outputs": [],
   "source": [
    "def json_file_read_and_count(json_filename):\n",
    "    df = spark_session.read.json(json_filename)\n",
    "\n",
    "    my_df_subreddit = df.select(\"subreddit\")\\\n",
    "        .groupBy(\"subreddit\")\\\n",
    "        .count()\\\n",
    "        .orderBy(\"count\", ascending=False)\n",
    "    \n",
    "    return my_df_subreddit"
   ]
  },
  {
   "cell_type": "code",
   "execution_count": 4,
   "id": "78041bb1",
   "metadata": {},
   "outputs": [
    {
     "name": "stdout",
     "output_type": "stream",
     "text": [
      "root\n",
      " |-- body: string (nullable = true)\n",
      " |-- subreddit: string (nullable = true)\n",
      "\n"
     ]
    }
   ],
   "source": [
    "redComm1.printSchema()"
   ]
  },
  {
   "cell_type": "code",
   "execution_count": 5,
   "id": "e9e7837f",
   "metadata": {},
   "outputs": [
    {
     "data": {
      "text/plain": [
       "[Row(subreddit='reddit.com'),\n",
       " Row(subreddit='reddit.com'),\n",
       " Row(subreddit='reddit.com'),\n",
       " Row(subreddit='reddit.com'),\n",
       " Row(subreddit='reddit.com')]"
      ]
     },
     "execution_count": 5,
     "metadata": {},
     "output_type": "execute_result"
    }
   ],
   "source": [
    "subs = redComm1.select('subreddit')\n",
    "subs.take(5)"
   ]
  },
  {
   "cell_type": "code",
   "execution_count": 6,
   "id": "ebc4a998",
   "metadata": {},
   "outputs": [],
   "source": [
    "subCountM1 = subs\\\n",
    "    .groupBy(\"subreddit\")\\\n",
    "    .count()\\\n",
    "    .orderBy(\"count\", ascending=False)"
   ]
  },
  {
   "cell_type": "code",
   "execution_count": 7,
   "id": "21fb3c44",
   "metadata": {},
   "outputs": [],
   "source": [
    "subCountM2 = redComm2\\\n",
    "    .select('subreddit')\\\n",
    "    .groupBy('subreddit')\\\n",
    "    .count()\\\n",
    "    .orderBy('count', ascending=False)"
   ]
  },
  {
   "cell_type": "code",
   "execution_count": 8,
   "id": "072212c5",
   "metadata": {},
   "outputs": [
    {
     "name": "stderr",
     "output_type": "stream",
     "text": [
      "\r",
      "[Stage 3:>                                                          (0 + 2) / 2]\r"
     ]
    },
    {
     "name": "stdout",
     "output_type": "stream",
     "text": [
      "+-------------+------+\n",
      "|    subreddit| count|\n",
      "+-------------+------+\n",
      "|   reddit.com|207092|\n",
      "|     politics| 83375|\n",
      "|  programming| 34642|\n",
      "|         pics| 25352|\n",
      "|      science| 22874|\n",
      "|     business| 14555|\n",
      "|    worldnews| 12725|\n",
      "|        funny| 10223|\n",
      "|entertainment|  9403|\n",
      "|       gaming|  9313|\n",
      "|         nsfw|  4036|\n",
      "|          WTF|  3276|\n",
      "|      offbeat|  2709|\n",
      "|   technology|  2645|\n",
      "|    Economics|  2313|\n",
      "|        obama|  1863|\n",
      "|      gadgets|  1714|\n",
      "|  environment|  1323|\n",
      "|    AskReddit|  1133|\n",
      "|       comics|  1029|\n",
      "+-------------+------+\n",
      "only showing top 20 rows\n",
      "\n"
     ]
    },
    {
     "name": "stderr",
     "output_type": "stream",
     "text": [
      "\r",
      "                                                                                \r"
     ]
    }
   ],
   "source": [
    "subCountM1.show()"
   ]
  },
  {
   "cell_type": "code",
   "execution_count": 9,
   "id": "4b39ab7b",
   "metadata": {},
   "outputs": [],
   "source": [
    "\n",
    "from pyspark.sql.functions import col\n",
    "joinedCount = subCountM2.select(col(\"subreddit\").alias(\"subreddit_new\"), col(\"count\").alias(\"count_new\"))\\\n",
    "    .join(subCountM1.select(col(\"subreddit\").alias(\"subreddit_old\"), col(\"count\").alias(\"count_old\")), col(\"subreddit_new\") == col(\"subreddit_old\"),\"left\")"
   ]
  },
  {
   "cell_type": "code",
   "execution_count": 10,
   "id": "7e619f2d",
   "metadata": {},
   "outputs": [
    {
     "name": "stderr",
     "output_type": "stream",
     "text": [
      "                                                                                \r"
     ]
    },
    {
     "name": "stdout",
     "output_type": "stream",
     "text": [
      "+-------------+---------+-------------+---------+\n",
      "|subreddit_new|count_new|subreddit_old|count_old|\n",
      "+-------------+---------+-------------+---------+\n",
      "|   reddit.com|   140944|   reddit.com|   207092|\n",
      "|     politics|    64532|     politics|    83375|\n",
      "|  programming|    40958|  programming|    34642|\n",
      "|         pics|    34426|         pics|    25352|\n",
      "|      science|    31727|      science|    22874|\n",
      "|    worldnews|    28143|    worldnews|    12725|\n",
      "|     business|    25699|     business|    14555|\n",
      "|        funny|    20824|        funny|    10223|\n",
      "|entertainment|    19519|entertainment|     9403|\n",
      "|       gaming|    10156|       gaming|     9313|\n",
      "|   technology|     9460|   technology|     2645|\n",
      "|    AskReddit|     4738|    AskReddit|     1133|\n",
      "|          WTF|     4413|          WTF|     3276|\n",
      "|      offbeat|     3626|      offbeat|     2709|\n",
      "|      gadgets|     2253|      gadgets|     1714|\n",
      "|         nsfw|     2114|         nsfw|     4036|\n",
      "|    Economics|     1982|    Economics|     2313|\n",
      "|      atheism|     1855|      atheism|      917|\n",
      "|       comics|     1516|       comics|     1029|\n",
      "|  environment|     1468|  environment|     1323|\n",
      "+-------------+---------+-------------+---------+\n",
      "only showing top 20 rows\n",
      "\n"
     ]
    }
   ],
   "source": [
    "joinedCount.show()"
   ]
  },
  {
   "cell_type": "code",
   "execution_count": 11,
   "id": "5a73fb49",
   "metadata": {},
   "outputs": [
    {
     "name": "stderr",
     "output_type": "stream",
     "text": [
      "                                                                                \r"
     ]
    },
    {
     "name": "stdout",
     "output_type": "stream",
     "text": [
      "+-------------+---------+-------------+---------+----------+\n",
      "|subreddit_new|count_new|subreddit_old|count_old|count_diff|\n",
      "+-------------+---------+-------------+---------+----------+\n",
      "|   reddit.com|   140944|   reddit.com|   207092|    -66148|\n",
      "|     politics|    64532|     politics|    83375|    -18843|\n",
      "|  programming|    40958|  programming|    34642|      6316|\n",
      "|         pics|    34426|         pics|    25352|      9074|\n",
      "|      science|    31727|      science|    22874|      8853|\n",
      "|    worldnews|    28143|    worldnews|    12725|     15418|\n",
      "|     business|    25699|     business|    14555|     11144|\n",
      "|        funny|    20824|        funny|    10223|     10601|\n",
      "|entertainment|    19519|entertainment|     9403|     10116|\n",
      "|       gaming|    10156|       gaming|     9313|       843|\n",
      "|   technology|     9460|   technology|     2645|      6815|\n",
      "|    AskReddit|     4738|    AskReddit|     1133|      3605|\n",
      "|          WTF|     4413|          WTF|     3276|      1137|\n",
      "|      offbeat|     3626|      offbeat|     2709|       917|\n",
      "|      gadgets|     2253|      gadgets|     1714|       539|\n",
      "|         nsfw|     2114|         nsfw|     4036|     -1922|\n",
      "|    Economics|     1982|    Economics|     2313|      -331|\n",
      "|      atheism|     1855|      atheism|      917|       938|\n",
      "|       comics|     1516|       comics|     1029|       487|\n",
      "|  environment|     1468|  environment|     1323|       145|\n",
      "+-------------+---------+-------------+---------+----------+\n",
      "only showing top 20 rows\n",
      "\n"
     ]
    }
   ],
   "source": [
    "new_df = joinedCount.withColumn('count_diff', joinedCount.count_new - joinedCount.count_old)\n",
    "new_df.show()"
   ]
  },
  {
   "cell_type": "code",
   "execution_count": 13,
   "id": "e5a3b5dd",
   "metadata": {},
   "outputs": [
    {
     "name": "stderr",
     "output_type": "stream",
     "text": [
      "                                                                                \r"
     ]
    },
    {
     "name": "stdout",
     "output_type": "stream",
     "text": [
      "+---------+\n",
      "|subreddit|\n",
      "+---------+\n",
      "+---------+\n",
      "\n"
     ]
    },
    {
     "name": "stderr",
     "output_type": "stream",
     "text": [
      "                                                                                \r"
     ]
    },
    {
     "ename": "AnalysisException",
     "evalue": "Resolved attribute(s) subreddit_new#217 missing from subreddit#176 in operator !Project [subreddit#176, subreddit_new#217 AS subreddit_02#239].;\n!Project [subreddit#176, subreddit_new#217 AS subreddit_02#239]\n+- LogicalRDD [subreddit#176], false\n",
     "output_type": "error",
     "traceback": [
      "\u001b[0;31m---------------------------------------------------------------------------\u001b[0m",
      "\u001b[0;31mAnalysisException\u001b[0m                         Traceback (most recent call last)",
      "Cell \u001b[0;32mIn[13], line 21\u001b[0m\n\u001b[1;32m     19\u001b[0m subname \u001b[38;5;241m=\u001b[39m \u001b[38;5;124m'\u001b[39m\u001b[38;5;124msubreddit_\u001b[39m\u001b[38;5;124m'\u001b[39m\u001b[38;5;241m+\u001b[39m\u001b[38;5;28mstr\u001b[39m(months[i])\n\u001b[1;32m     20\u001b[0m countname \u001b[38;5;241m=\u001b[39m \u001b[38;5;124m'\u001b[39m\u001b[38;5;124mcount_diff_\u001b[39m\u001b[38;5;124m'\u001b[39m\u001b[38;5;241m+\u001b[39m\u001b[38;5;28mstr\u001b[39m(months[i])\n\u001b[0;32m---> 21\u001b[0m df_all_years \u001b[38;5;241m=\u001b[39m \u001b[43mdf_all_years\u001b[49m\u001b[38;5;241;43m.\u001b[39;49m\u001b[43mwithColumn\u001b[49m\u001b[43m(\u001b[49m\u001b[43msubname\u001b[49m\u001b[43m,\u001b[49m\u001b[43m \u001b[49m\u001b[43mnew_df\u001b[49m\u001b[38;5;241;43m.\u001b[39;49m\u001b[43msubreddit_new\u001b[49m\u001b[43m)\u001b[49m\n\u001b[1;32m     22\u001b[0m df_all_years \u001b[38;5;241m=\u001b[39m df_all_years\u001b[38;5;241m.\u001b[39mwithColumn(countname, new_df\u001b[38;5;241m.\u001b[39mcount_diff)\n\u001b[1;32m     23\u001b[0m i \u001b[38;5;241m+\u001b[39m\u001b[38;5;241m=\u001b[39m \u001b[38;5;241m1\u001b[39m\n",
      "File \u001b[0;32m~/.local/lib/python3.10/site-packages/pyspark/sql/dataframe.py:2478\u001b[0m, in \u001b[0;36mDataFrame.withColumn\u001b[0;34m(self, colName, col)\u001b[0m\n\u001b[1;32m   2476\u001b[0m \u001b[38;5;28;01mif\u001b[39;00m \u001b[38;5;129;01mnot\u001b[39;00m \u001b[38;5;28misinstance\u001b[39m(col, Column):\n\u001b[1;32m   2477\u001b[0m     \u001b[38;5;28;01mraise\u001b[39;00m \u001b[38;5;167;01mTypeError\u001b[39;00m(\u001b[38;5;124m\"\u001b[39m\u001b[38;5;124mcol should be Column\u001b[39m\u001b[38;5;124m\"\u001b[39m)\n\u001b[0;32m-> 2478\u001b[0m \u001b[38;5;28;01mreturn\u001b[39;00m DataFrame(\u001b[38;5;28;43mself\u001b[39;49m\u001b[38;5;241;43m.\u001b[39;49m\u001b[43m_jdf\u001b[49m\u001b[38;5;241;43m.\u001b[39;49m\u001b[43mwithColumn\u001b[49m\u001b[43m(\u001b[49m\u001b[43mcolName\u001b[49m\u001b[43m,\u001b[49m\u001b[43m \u001b[49m\u001b[43mcol\u001b[49m\u001b[38;5;241;43m.\u001b[39;49m\u001b[43m_jc\u001b[49m\u001b[43m)\u001b[49m, \u001b[38;5;28mself\u001b[39m\u001b[38;5;241m.\u001b[39msql_ctx)\n",
      "File \u001b[0;32m~/.local/lib/python3.10/site-packages/py4j/java_gateway.py:1321\u001b[0m, in \u001b[0;36mJavaMember.__call__\u001b[0;34m(self, *args)\u001b[0m\n\u001b[1;32m   1315\u001b[0m command \u001b[38;5;241m=\u001b[39m proto\u001b[38;5;241m.\u001b[39mCALL_COMMAND_NAME \u001b[38;5;241m+\u001b[39m\\\n\u001b[1;32m   1316\u001b[0m     \u001b[38;5;28mself\u001b[39m\u001b[38;5;241m.\u001b[39mcommand_header \u001b[38;5;241m+\u001b[39m\\\n\u001b[1;32m   1317\u001b[0m     args_command \u001b[38;5;241m+\u001b[39m\\\n\u001b[1;32m   1318\u001b[0m     proto\u001b[38;5;241m.\u001b[39mEND_COMMAND_PART\n\u001b[1;32m   1320\u001b[0m answer \u001b[38;5;241m=\u001b[39m \u001b[38;5;28mself\u001b[39m\u001b[38;5;241m.\u001b[39mgateway_client\u001b[38;5;241m.\u001b[39msend_command(command)\n\u001b[0;32m-> 1321\u001b[0m return_value \u001b[38;5;241m=\u001b[39m \u001b[43mget_return_value\u001b[49m\u001b[43m(\u001b[49m\n\u001b[1;32m   1322\u001b[0m \u001b[43m    \u001b[49m\u001b[43manswer\u001b[49m\u001b[43m,\u001b[49m\u001b[43m \u001b[49m\u001b[38;5;28;43mself\u001b[39;49m\u001b[38;5;241;43m.\u001b[39;49m\u001b[43mgateway_client\u001b[49m\u001b[43m,\u001b[49m\u001b[43m \u001b[49m\u001b[38;5;28;43mself\u001b[39;49m\u001b[38;5;241;43m.\u001b[39;49m\u001b[43mtarget_id\u001b[49m\u001b[43m,\u001b[49m\u001b[43m \u001b[49m\u001b[38;5;28;43mself\u001b[39;49m\u001b[38;5;241;43m.\u001b[39;49m\u001b[43mname\u001b[49m\u001b[43m)\u001b[49m\n\u001b[1;32m   1324\u001b[0m \u001b[38;5;28;01mfor\u001b[39;00m temp_arg \u001b[38;5;129;01min\u001b[39;00m temp_args:\n\u001b[1;32m   1325\u001b[0m     temp_arg\u001b[38;5;241m.\u001b[39m_detach()\n",
      "File \u001b[0;32m~/.local/lib/python3.10/site-packages/pyspark/sql/utils.py:117\u001b[0m, in \u001b[0;36mcapture_sql_exception.<locals>.deco\u001b[0;34m(*a, **kw)\u001b[0m\n\u001b[1;32m    113\u001b[0m converted \u001b[38;5;241m=\u001b[39m convert_exception(e\u001b[38;5;241m.\u001b[39mjava_exception)\n\u001b[1;32m    114\u001b[0m \u001b[38;5;28;01mif\u001b[39;00m \u001b[38;5;129;01mnot\u001b[39;00m \u001b[38;5;28misinstance\u001b[39m(converted, UnknownException):\n\u001b[1;32m    115\u001b[0m     \u001b[38;5;66;03m# Hide where the exception came from that shows a non-Pythonic\u001b[39;00m\n\u001b[1;32m    116\u001b[0m     \u001b[38;5;66;03m# JVM exception message.\u001b[39;00m\n\u001b[0;32m--> 117\u001b[0m     \u001b[38;5;28;01mraise\u001b[39;00m converted \u001b[38;5;28;01mfrom\u001b[39;00m \u001b[38;5;28mNone\u001b[39m\n\u001b[1;32m    118\u001b[0m \u001b[38;5;28;01melse\u001b[39;00m:\n\u001b[1;32m    119\u001b[0m     \u001b[38;5;28;01mraise\u001b[39;00m\n",
      "\u001b[0;31mAnalysisException\u001b[0m: Resolved attribute(s) subreddit_new#217 missing from subreddit#176 in operator !Project [subreddit#176, subreddit_new#217 AS subreddit_02#239].;\n!Project [subreddit#176, subreddit_new#217 AS subreddit_02#239]\n+- LogicalRDD [subreddit#176], false\n"
     ]
    }
   ],
   "source": [
    "from pyspark.sql.functions import trim, regexp_replace, lower, explode, trim, split\n",
    "from pyspark.sql.types import StructType, StructField, StringType\n",
    "\n",
    "years = [\"07\"]\n",
    "months = [\"01\", \"02\", \"03\", \"04\", \"05\", \"06\", \"07\", \"08\", \"09\", \"10\", \"11\", \"12\"]\n",
    "\n",
    "empty_schema = StructType([StructField(\"subreddit\", StringType(), True),])\n",
    "df_all_years = spark_session.createDataFrame([], empty_schema)\n",
    "\n",
    "df_all_years.show()\n",
    "i = 1\n",
    "for year in years:\n",
    "    while i < 3:\n",
    "        lastMonth = json_file_read_and_count(\"hdfs://192.168.2.97:50000/user/ubuntu/RC_2008-\"+ months[i-1] + \".json\")\n",
    "        currentMonth = json_file_read_and_count(\"hdfs://192.168.2.97:50000/user/ubuntu/RC_2008-\"+ months[i] + \".json\")\n",
    "        \n",
    "        joinedCount = currentMonth.select(col(\"subreddit\").alias(\"subreddit_new\"), col(\"count\").alias(\"count_new\"))\\\n",
    "            .join(lastMonth.select(col(\"subreddit\").alias(\"subreddit_old\"), col(\"count\").alias(\"count_old\")), col(\"subreddit_new\") == col(\"subreddit_old\"),\"left\")\n",
    "        new_df = joinedCount.withColumn('count_diff', joinedCount.count_new - joinedCount.count_old)\n",
    "        \n",
    "        subname = 'subreddit_'+str(months[i])\n",
    "        countname = 'count_diff_'+str(months[i])\n",
    "        \n",
    "        df_all_years = df_all_years.withColumn(subname, new_df.subreddit_new)\n",
    "        df_all_years = df_all_years.withColumn(countname, new_df.count_diff)\n",
    "        i += 1\n",
    "        \n",
    "df_all_years.show()"
   ]
  },
  {
   "cell_type": "code",
   "execution_count": null,
   "id": "d7b842b6",
   "metadata": {},
   "outputs": [],
   "source": []
  },
  {
   "cell_type": "code",
   "execution_count": null,
   "id": "37564b76",
   "metadata": {},
   "outputs": [],
   "source": [
    "spark_session.stop()"
   ]
  },
  {
   "cell_type": "code",
   "execution_count": null,
   "id": "78aa48db",
   "metadata": {},
   "outputs": [],
   "source": []
  }
 ],
 "metadata": {
  "kernelspec": {
   "display_name": "Python 3 (ipykernel)",
   "language": "python",
   "name": "python3"
  },
  "language_info": {
   "codemirror_mode": {
    "name": "ipython",
    "version": 3
   },
   "file_extension": ".py",
   "mimetype": "text/x-python",
   "name": "python",
   "nbconvert_exporter": "python",
   "pygments_lexer": "ipython3",
   "version": "3.10.6"
  }
 },
 "nbformat": 4,
 "nbformat_minor": 5
}
