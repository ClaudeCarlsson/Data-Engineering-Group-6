{
 "cells": [
  {
   "cell_type": "code",
   "execution_count": null,
   "id": "8cedd214",
   "metadata": {},
   "outputs": [],
   "source": [
    "from pyspark.sql import SparkSession\n",
    "\n",
    "spark_session = SparkSession.builder\\\n",
    "        .master(\"spark://192.168.2.97:7077\") \\\n",
    "        .appName(\"Q3\")\\\n",
    "        .config(\"spark.dynamicAllocation.enabled\", True)\\\n",
    "        .config(\"spark.dynamicAllocation.shuffleTracking.enabled\",True)\\\n",
    "        .config(\"spark.jars.packages\", \"uk.co.gresearch.spark:spark-extension_2.12:2.4.0-3.3\")\\\n",
    "        .config(\"spark.cores.max\", 2)\\\n",
    "        .getOrCreate()\n",
    "\n",
    "spark_context = spark_session.sparkContext\n",
    "\n",
    "spark_context.setLogLevel(\"ERROR\")"
   ]
  },
  {
   "cell_type": "code",
   "execution_count": null,
   "id": "c4a54b6a",
   "metadata": {},
   "outputs": [],
   "source": [
    "redComm1 = spark_session.read.json(\"../RC_2008-03\")\n",
    "redComm2 = spark_session.read.json(\"../RC_2008-04\")"
   ]
  },
  {
   "cell_type": "code",
   "execution_count": null,
   "id": "78041bb1",
   "metadata": {},
   "outputs": [],
   "source": [
    "redComm1.printSchema()"
   ]
  },
  {
   "cell_type": "code",
   "execution_count": null,
   "id": "e9e7837f",
   "metadata": {},
   "outputs": [],
   "source": [
    "subs = redComm1.select('subreddit')\n",
    "subs.take(5)"
   ]
  },
  {
   "cell_type": "code",
   "execution_count": null,
   "id": "ebc4a998",
   "metadata": {},
   "outputs": [],
   "source": [
    "subCountM1 = subs\\\n",
    "    .groupBy(\"subreddit\")\\\n",
    "    .count()\\\n",
    "    .orderBy(\"count\", ascending=False)"
   ]
  },
  {
   "cell_type": "code",
   "execution_count": null,
   "id": "21fb3c44",
   "metadata": {},
   "outputs": [],
   "source": [
    "subCountM2 = redComm2\\\n",
    "    .select('subreddit')\\\n",
    "    .groupBy('subreddit')\\\n",
    "    .count()\\\n",
    "    .orderBy('count', ascending=False)"
   ]
  },
  {
   "cell_type": "code",
   "execution_count": null,
   "id": "072212c5",
   "metadata": {},
   "outputs": [],
   "source": [
    "subCountM1.show()"
   ]
  },
  {
   "cell_type": "code",
   "execution_count": null,
   "id": "4b39ab7b",
   "metadata": {},
   "outputs": [],
   "source": [
    "subCountM2.join(subCountM1,subCountM2.subreddit ==  subCountM1.subreddit,\"left\")\\\n",
    "    .show(truncate=False)\n",
    "subCountM2.join(subCountM1,subCountM2.subreddit ==  subCountM1.subreddit,\"leftouter\")\\\n",
    "    .show(truncate=False)"
   ]
  },
  {
   "cell_type": "code",
   "execution_count": null,
   "id": "e5a3b5dd",
   "metadata": {},
   "outputs": [],
   "source": []
  },
  {
   "cell_type": "code",
   "execution_count": null,
   "id": "d7b842b6",
   "metadata": {},
   "outputs": [],
   "source": []
  },
  {
   "cell_type": "code",
   "execution_count": null,
   "id": "37564b76",
   "metadata": {},
   "outputs": [],
   "source": [
    "spark_session.stop()"
   ]
  },
  {
   "cell_type": "code",
   "execution_count": null,
   "id": "78aa48db",
   "metadata": {},
   "outputs": [],
   "source": []
  }
 ],
 "metadata": {
  "kernelspec": {
   "display_name": "Python 3 (ipykernel)",
   "language": "python",
   "name": "python3"
  },
  "language_info": {
   "codemirror_mode": {
    "name": "ipython",
    "version": 3
   },
   "file_extension": ".py",
   "mimetype": "text/x-python",
   "name": "python",
   "nbconvert_exporter": "python",
   "pygments_lexer": "ipython3",
   "version": "3.10.6"
  }
 },
 "nbformat": 4,
 "nbformat_minor": 5
}
