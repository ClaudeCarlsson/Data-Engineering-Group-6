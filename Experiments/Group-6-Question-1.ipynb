{
 "cells": [
  {
   "cell_type": "code",
   "execution_count": 1,
   "id": "3c8eb053",
   "metadata": {},
   "outputs": [],
   "source": [
    "from pyspark.sql import SparkSession\n",
    "from pyspark.sql.functions import trim, regexp_replace, lower, explode, trim, split\n",
    "from pyspark.sql.types import StructType, StructField, StringType"
   ]
  },
  {
   "cell_type": "code",
   "execution_count": 2,
   "id": "16f6e073",
   "metadata": {},
   "outputs": [],
   "source": [
    "# The code can currently not run with all years and months selected\n",
    "years = [\"06\", \"07\", \"08\", \"09\", \"10\"]\n",
    "months = [\"01\", \"02\", \"03\", \"04\", \"05\", \"06\", \"07\", \"08\", \"09\", \"10\", \"11\", \"12\"]\n",
    "#months = [\"01\"]"
   ]
  },
  {
   "cell_type": "code",
   "execution_count": 3,
   "id": "79e7d63f",
   "metadata": {},
   "outputs": [
    {
     "name": "stderr",
     "output_type": "stream",
     "text": [
      "WARNING: An illegal reflective access operation has occurred\n",
      "WARNING: Illegal reflective access by org.apache.spark.unsafe.Platform (file:/opt/spark/jars/spark-unsafe_2.12-3.2.3.jar) to constructor java.nio.DirectByteBuffer(long,int)\n",
      "WARNING: Please consider reporting this to the maintainers of org.apache.spark.unsafe.Platform\n",
      "WARNING: Use --illegal-access=warn to enable warnings of further illegal reflective access operations\n",
      "WARNING: All illegal access operations will be denied in a future release\n",
      "Using Spark's default log4j profile: org/apache/spark/log4j-defaults.properties\n",
      "Setting default log level to \"WARN\".\n",
      "To adjust logging level use sc.setLogLevel(newLevel). For SparkR, use setLogLevel(newLevel).\n",
      "23/03/13 09:33:00 WARN NativeCodeLoader: Unable to load native-hadoop library for your platform... using builtin-java classes where applicable\n"
     ]
    }
   ],
   "source": [
    "spark = SparkSession.builder\\\n",
    "    .master(\"spark://192.168.2.97:7077\") \\\n",
    "    .appName(\"claude_carlsson_hdfs\")\\\n",
    "    .config(\"spark.dynamicAllocation.enabled\", True)\\\n",
    "    .config(\"spark.dynamicAllocation.shuffleTracking.enabled\",True)\\\n",
    "    .config(\"spark.shuffle.service.enabled\", True)\\\n",
    "    .config(\"spark.dynamicAllocation.executorIdleTimeout\",\"30s\")\\\n",
    "    .config(\"spark.cores.max\", 5)\\\n",
    "    .getOrCreate()"
   ]
  },
  {
   "cell_type": "code",
   "execution_count": 4,
   "id": "0ffbd537",
   "metadata": {},
   "outputs": [],
   "source": [
    "def parse_json_body_to_string(json_filename):\n",
    "    # Read the json file\n",
    "    df = spark.read.json(json_filename)\n",
    "\n",
    "    # Make everything lowercase\n",
    "    my_df_lower = df.select(lower(\"body\").alias(\"lowercase_body\"))\n",
    "\n",
    "    # Remove all charachters that exist in charachters_to_delete\n",
    "    charachters_to_delete = \"[\\.,\\[\\]\\(\\):_\\-!?\\'\\+=;/&{}@$#*\\\"\\\\\\\\%><|~¨´¤]\"\n",
    "\n",
    "    my_df_clean = my_df_lower.withColumn(\"lowercase_body\", regexp_replace(my_df_lower.lowercase_body, charachters_to_delete, \"\"))\n",
    "\n",
    "    # Parse the body to words\n",
    "    my_df_words = my_df_clean.select(explode(split(\"lowercase_body\", \"\\s+\")).alias(\"word\"))\n",
    "\n",
    "    return my_df_words"
   ]
  },
  {
   "cell_type": "code",
   "execution_count": 5,
   "id": "b7d2ecb4",
   "metadata": {},
   "outputs": [],
   "source": [
    "def get_word_count_and_df_all_years():\n",
    "    word_count = {}\n",
    "    empty_schema = StructType([StructField(\"word\", StringType(), True),])\n",
    "    df_all_years = spark.createDataFrame([], empty_schema)\n",
    "\n",
    "    for year in years:\n",
    "        df_this_year = spark.createDataFrame([], empty_schema)\n",
    "\n",
    "        # Append all the months to the dataframe\n",
    "        for month in months:\n",
    "            df_month = parse_json_body_to_string(\"hdfs://192.168.2.97:50000/user/ubuntu/RC_20\" + year + \"-\" + month + \".json\")\n",
    "            df_this_year = df_this_year.union(df_month)\n",
    "\n",
    "        # Count and sort the words. Save the result in word_count\n",
    "        word_count_this_year = df_this_year.groupBy(\"word\").count().orderBy(\"count\", ascending=False)\n",
    "        year_string = \"20\" + year\n",
    "        word_count.update({year_string: word_count_this_year})\n",
    "\n",
    "        # Sort df_this_year and update df_all_years\n",
    "        df_all_years = df_all_years.union(df_this_year)\n",
    "    return word_count, df_all_years"
   ]
  },
  {
   "cell_type": "code",
   "execution_count": 6,
   "id": "a0f6df63",
   "metadata": {},
   "outputs": [
    {
     "name": "stderr",
     "output_type": "stream",
     "text": [
      "                                                                                \r"
     ]
    }
   ],
   "source": [
    "# Get the dictionaries\n",
    "word_count, df_all_years = get_word_count_and_df_all_years()"
   ]
  },
  {
   "cell_type": "code",
   "execution_count": 7,
   "id": "f9e29dd2",
   "metadata": {},
   "outputs": [],
   "source": [
    "# Find top 1000 most used words\n",
    "word_count_all_years = df_all_years.groupBy(\"word\").count().orderBy(\"count\", ascending=False)\n",
    "most_common_words = word_count_all_years.limit(500)\n",
    "\n",
    "# Remove the most common words from the word count for each year\n",
    "word_count_unique = {}\n",
    "for year in years:\n",
    "    year_string = \"20\" + year\n",
    "    word_count_unique[year_string] = word_count[year_string].join(most_common_words, [\"word\"], \"leftanti\")\n",
    "    # word_count_unique[year_string] = word_count_unique[year_string].sort('count', ascending=False)"
   ]
  },
  {
   "cell_type": "code",
   "execution_count": 8,
   "id": "d07d0acf",
   "metadata": {},
   "outputs": [
    {
     "name": "stderr",
     "output_type": "stream",
     "text": [
      "                                                                                \r"
     ]
    },
    {
     "name": "stdout",
     "output_type": "stream",
     "text": [
      "+----+---------+\n",
      "|word|    count|\n",
      "+----+---------+\n",
      "| the|100762469|\n",
      "|  to| 65846163|\n",
      "|   a| 60236289|\n",
      "|   i| 53540807|\n",
      "| and| 50730510|\n",
      "|  of| 46658892|\n",
      "| you| 37819126|\n",
      "|that| 37324476|\n",
      "|  is| 35889144|\n",
      "|  it| 34511854|\n",
      "+----+---------+\n",
      "only showing top 10 rows\n",
      "\n"
     ]
    },
    {
     "name": "stderr",
     "output_type": "stream",
     "text": [
      "                                                                                \r"
     ]
    },
    {
     "name": "stdout",
     "output_type": "stream",
     "text": [
      "+--------+-----+\n",
      "|    word|count|\n",
      "+--------+-----+\n",
      "| removed|32413|\n",
      "|language| 8955|\n",
      "|    code| 8034|\n",
      "|    bush| 7574|\n",
      "|    page| 6739|\n",
      "|  israel| 5939|\n",
      "|       c| 5932|\n",
      "| perhaps| 5583|\n",
      "|  google| 5560|\n",
      "|    lisp| 5411|\n",
      "+--------+-----+\n",
      "only showing top 10 rows\n",
      "\n"
     ]
    },
    {
     "name": "stderr",
     "output_type": "stream",
     "text": [
      "                                                                                \r"
     ]
    },
    {
     "name": "stdout",
     "output_type": "stream",
     "text": [
      "+--------+------+\n",
      "|    word| count|\n",
      "+--------+------+\n",
      "| removed|208600|\n",
      "|    blog| 47863|\n",
      "|    paul| 46595|\n",
      "|    spam| 44608|\n",
      "|    bush| 40833|\n",
      "|     ron| 36043|\n",
      "|    vote| 31417|\n",
      "|    code| 30274|\n",
      "|  states| 30000|\n",
      "|language| 28938|\n",
      "+--------+------+\n",
      "only showing top 10 rows\n",
      "\n"
     ]
    },
    {
     "name": "stderr",
     "output_type": "stream",
     "text": [
      "                                                                                \r"
     ]
    },
    {
     "name": "stdout",
     "output_type": "stream",
     "text": [
      "+---------+------+\n",
      "|     word| count|\n",
      "+---------+------+\n",
      "|    obama|174574|\n",
      "|     vote|121155|\n",
      "|   mccain| 99636|\n",
      "|     bush| 85053|\n",
      "|  america| 71386|\n",
      "|   market| 69809|\n",
      "|   states| 69174|\n",
      "|     paul| 65798|\n",
      "|president| 63432|\n",
      "|   rights| 60091|\n",
      "+---------+------+\n",
      "only showing top 10 rows\n",
      "\n"
     ]
    },
    {
     "name": "stderr",
     "output_type": "stream",
     "text": [
      "                                                                                \r"
     ]
    },
    {
     "name": "stdout",
     "output_type": "stream",
     "text": [
      "+-----------+------+\n",
      "|       word| count|\n",
      "+-----------+------+\n",
      "|     health|167849|\n",
      "|    science|141079|\n",
      "|      obama|134412|\n",
      "|     market|133046|\n",
      "|    perhaps|133007|\n",
      "|      words|132869|\n",
      "|   comments|128901|\n",
      "|      woman|128162|\n",
      "|information|125155|\n",
      "|     cannot|124672|\n",
      "+-----------+------+\n",
      "only showing top 10 rows\n",
      "\n"
     ]
    },
    {
     "name": "stderr",
     "output_type": "stream",
     "text": [
      "[Stage 98:==================================>                      (6 + 4) / 10]\r"
     ]
    },
    {
     "name": "stdout",
     "output_type": "stream",
     "text": [
      "+--------+------+\n",
      "|    word| count|\n",
      "+--------+------+\n",
      "|     hit|335308|\n",
      "|    wish|325164|\n",
      "|together|321631|\n",
      "|    huge|319151|\n",
      "|   close|317905|\n",
      "|    body|315029|\n",
      "|     lol|314831|\n",
      "|    dude|312322|\n",
      "|   woman|311797|\n",
      "|    past|311009|\n",
      "+--------+------+\n",
      "only showing top 10 rows\n",
      "\n"
     ]
    },
    {
     "name": "stderr",
     "output_type": "stream",
     "text": [
      "\r",
      "                                                                                \r"
     ]
    }
   ],
   "source": [
    "most_common_words.show(10)\n",
    "word_count_unique[\"2006\"].show(10)\n",
    "word_count_unique[\"2007\"].show(10)\n",
    "word_count_unique[\"2008\"].show(10)\n",
    "word_count_unique[\"2009\"].show(10)\n",
    "word_count_unique[\"2010\"].show(10)"
   ]
  },
  {
   "cell_type": "code",
   "execution_count": 9,
   "id": "2510494c",
   "metadata": {},
   "outputs": [],
   "source": [
    "spark.stop()"
   ]
  }
 ],
 "metadata": {
  "kernelspec": {
   "display_name": "Python 3 (ipykernel)",
   "language": "python",
   "name": "python3"
  },
  "language_info": {
   "codemirror_mode": {
    "name": "ipython",
    "version": 3
   },
   "file_extension": ".py",
   "mimetype": "text/x-python",
   "name": "python",
   "nbconvert_exporter": "python",
   "pygments_lexer": "ipython3",
   "version": "3.10.6"
  }
 },
 "nbformat": 4,
 "nbformat_minor": 5
}
