{
 "cells": [
  {
   "cell_type": "code",
   "execution_count": 4,
   "id": "1cbb8664",
   "metadata": {},
   "outputs": [
    {
     "name": "stderr",
     "output_type": "stream",
     "text": [
      "WARNING: An illegal reflective access operation has occurred\n",
      "WARNING: Illegal reflective access by org.apache.spark.unsafe.Platform (file:/opt/spark/jars/spark-unsafe_2.12-3.2.3.jar) to constructor java.nio.DirectByteBuffer(long,int)\n",
      "WARNING: Please consider reporting this to the maintainers of org.apache.spark.unsafe.Platform\n",
      "WARNING: Use --illegal-access=warn to enable warnings of further illegal reflective access operations\n",
      "WARNING: All illegal access operations will be denied in a future release\n",
      "Using Spark's default log4j profile: org/apache/spark/log4j-defaults.properties\n",
      "Setting default log level to \"WARN\".\n",
      "To adjust logging level use sc.setLogLevel(newLevel). For SparkR, use setLogLevel(newLevel).\n",
      "23/03/14 18:28:02 WARN NativeCodeLoader: Unable to load native-hadoop library for your platform... using builtin-java classes where applicable\n"
     ]
    }
   ],
   "source": [
    "from pyspark.sql import SparkSession\n",
    "\n",
    "spark_session = SparkSession.builder\\\n",
    "        .master(\"spark://192.168.2.97:7077\") \\\n",
    "        .appName(\"Q3\")\\\n",
    "        .config(\"spark.dynamicAllocation.enabled\", True)\\\n",
    "        .config(\"spark.dynamicAllocation.shuffleTracking.enabled\",True)\\\n",
    "        .config(\"spark.cores.max\", 2)\\\n",
    "        .getOrCreate()\n",
    "\n",
    "spark_context = spark_session.sparkContext\n",
    "        #.config(\"spark.jars.packages\", \"uk.co.gresearch.spark:spark-extension_2.12:2.4.0-3.3\")\\\n",
    "spark_context.setLogLevel(\"ERROR\")"
   ]
  },
  {
   "cell_type": "code",
   "execution_count": 5,
   "id": "129e5aa0",
   "metadata": {},
   "outputs": [
    {
     "name": "stderr",
     "output_type": "stream",
     "text": [
      "                                                                                \r"
     ]
    }
   ],
   "source": [
    "redComm1 = spark_session.read.json(\"hdfs://192.168.2.97:50000/user/ubuntu/RC_2008-03.json\")\n",
    "redComm2 = spark_session.read.json(\"hdfs://192.168.2.97:50000/user/ubuntu/RC_2008-04.json\")"
   ]
  },
  {
   "cell_type": "code",
   "execution_count": 6,
   "id": "2d5cba47",
   "metadata": {},
   "outputs": [
    {
     "name": "stdout",
     "output_type": "stream",
     "text": [
      "DataFrame[body: string, subreddit: string]\n"
     ]
    }
   ],
   "source": [
    "print(redComm1)"
   ]
  },
  {
   "cell_type": "code",
   "execution_count": 13,
   "id": "31fd976a",
   "metadata": {},
   "outputs": [],
   "source": [
    "import requests\n",
    "\n",
    "url = \"http://files.pushshift.io/reddit/comments/RC_2006-01.zst\"\n",
    "filename = \"RC_2006-01.zst\"\n",
    "\n",
    "response = requests.get(url)\n",
    "\n",
    "with open(filename, \"wb\") as f:\n",
    "    f.write(response.content)"
   ]
  },
  {
   "cell_type": "code",
   "execution_count": 14,
   "id": "d0110f84",
   "metadata": {},
   "outputs": [],
   "source": [
    "import zstandard\n",
    "import json"
   ]
  },
  {
   "cell_type": "code",
   "execution_count": 22,
   "id": "45f91f00",
   "metadata": {},
   "outputs": [
    {
     "name": "stdout",
     "output_type": "stream",
     "text": [
      "Defaulting to user installation because normal site-packages is not writeable\n",
      "Collecting zstandard\n",
      "  Downloading zstandard-0.20.0-cp310-cp310-manylinux_2_17_x86_64.manylinux2014_x86_64.whl (2.6 MB)\n",
      "\u001b[2K     \u001b[90m━━━━━━━━━━━━━━━━━━━━━━━━━━━━━━━━━━━━━━━━\u001b[0m \u001b[32m2.6/2.6 MB\u001b[0m \u001b[31m12.0 MB/s\u001b[0m eta \u001b[36m0:00:00\u001b[0m00:01\u001b[0m00:01\u001b[0m\n",
      "\u001b[?25hInstalling collected packages: zstandard\n",
      "Successfully installed zstandard-0.20.0\n",
      "Note: you may need to restart the kernel to use updated packages.\n"
     ]
    }
   ],
   "source": [
    "pip install zstandard"
   ]
  },
  {
   "cell_type": "code",
   "execution_count": null,
   "id": "ef2c80a7",
   "metadata": {},
   "outputs": [],
   "source": []
  },
  {
   "cell_type": "code",
   "execution_count": 15,
   "id": "fc6381cd",
   "metadata": {},
   "outputs": [
    {
     "ename": "ZstdError",
     "evalue": "zstd decompress error: Frame requires too much memory for decoding",
     "output_type": "error",
     "traceback": [
      "\u001b[0;31m---------------------------------------------------------------------------\u001b[0m",
      "\u001b[0;31mZstdError\u001b[0m                                 Traceback (most recent call last)",
      "Cell \u001b[0;32mIn[15], line 8\u001b[0m\n\u001b[1;32m      5\u001b[0m     dctx \u001b[38;5;241m=\u001b[39m zstandard\u001b[38;5;241m.\u001b[39mZstdDecompressor()\n\u001b[1;32m      6\u001b[0m     \u001b[38;5;28;01mwith\u001b[39;00m dctx\u001b[38;5;241m.\u001b[39mstream_reader(f) \u001b[38;5;28;01mas\u001b[39;00m reader:\n\u001b[1;32m      7\u001b[0m         \u001b[38;5;66;03m# Read the JSON data and parse it\u001b[39;00m\n\u001b[0;32m----> 8\u001b[0m         data \u001b[38;5;241m=\u001b[39m json\u001b[38;5;241m.\u001b[39mloads(\u001b[43mreader\u001b[49m\u001b[38;5;241;43m.\u001b[39;49m\u001b[43mread\u001b[49m\u001b[43m(\u001b[49m\u001b[43m)\u001b[49m\u001b[38;5;241m.\u001b[39mdecode())\n\u001b[1;32m     10\u001b[0m \u001b[38;5;66;03m# Print the attributes of the first comment in the dataset\u001b[39;00m\n\u001b[1;32m     11\u001b[0m \u001b[38;5;28mprint\u001b[39m(data[\u001b[38;5;241m0\u001b[39m]\u001b[38;5;241m.\u001b[39mkeys())\n",
      "\u001b[0;31mZstdError\u001b[0m: zstd decompress error: Frame requires too much memory for decoding"
     ]
    }
   ],
   "source": [
    "filename = \"RC_2006-01.zst\"\n",
    "\n",
    "# Open the compressed file\n",
    "with open(filename, \"rb\") as f:\n",
    "    dctx = zstandard.ZstdDecompressor()\n",
    "    with dctx.stream_reader(f) as reader:\n",
    "        # Read the JSON data and parse it\n",
    "        data = json.loads(reader.read().decode())\n",
    "\n",
    "# Print the attributes of the first comment in the dataset\n",
    "print(data[0].keys())"
   ]
  },
  {
   "cell_type": "code",
   "execution_count": null,
   "id": "f941520b",
   "metadata": {},
   "outputs": [],
   "source": []
  },
  {
   "cell_type": "code",
   "execution_count": 12,
   "id": "004604a5",
   "metadata": {},
   "outputs": [],
   "source": [
    "subCount = redComm1.select('subreddit')\\\n",
    "    .groupBy(\"subreddit\")\\\n",
    "    .count()\\\n",
    "    .orderBy(\"count\", ascending=False)"
   ]
  },
  {
   "cell_type": "code",
   "execution_count": 13,
   "id": "df356a36",
   "metadata": {},
   "outputs": [
    {
     "name": "stderr",
     "output_type": "stream",
     "text": [
      "\r",
      "[Stage 9:>                                                          (0 + 2) / 2]\r",
      "\r",
      "[Stage 9:=============================>                             (1 + 1) / 2]\r"
     ]
    },
    {
     "name": "stdout",
     "output_type": "stream",
     "text": [
      "+-------------+------+\n",
      "|    subreddit| count|\n",
      "+-------------+------+\n",
      "|   reddit.com|207092|\n",
      "|     politics| 83375|\n",
      "|  programming| 34642|\n",
      "|         pics| 25352|\n",
      "|      science| 22874|\n",
      "|     business| 14555|\n",
      "|    worldnews| 12725|\n",
      "|        funny| 10223|\n",
      "|entertainment|  9403|\n",
      "|       gaming|  9313|\n",
      "|         nsfw|  4036|\n",
      "|          WTF|  3276|\n",
      "|      offbeat|  2709|\n",
      "|   technology|  2645|\n",
      "|    Economics|  2313|\n",
      "|        obama|  1863|\n",
      "|      gadgets|  1714|\n",
      "|  environment|  1323|\n",
      "|    AskReddit|  1133|\n",
      "|       comics|  1029|\n",
      "+-------------+------+\n",
      "only showing top 20 rows\n",
      "\n"
     ]
    },
    {
     "name": "stderr",
     "output_type": "stream",
     "text": [
      "\r",
      "                                                                                \r"
     ]
    }
   ],
   "source": [
    "subCount.show()"
   ]
  },
  {
   "cell_type": "code",
   "execution_count": 14,
   "id": "437bc7e2",
   "metadata": {},
   "outputs": [],
   "source": [
    "cons = redComm1[redComm1.subreddit == 'politics']"
   ]
  },
  {
   "cell_type": "code",
   "execution_count": 15,
   "id": "99f328b3",
   "metadata": {},
   "outputs": [
    {
     "name": "stdout",
     "output_type": "stream",
     "text": [
      "+--------------------+---------+\n",
      "|                body|subreddit|\n",
      "+--------------------+---------+\n",
      "|Gore would be a p...| politics|\n",
      "|           [deleted]| politics|\n",
      "|Thanks for the ex...| politics|\n",
      "|      who's design? | politics|\n",
      "|&gt;&gt;I defende...| politics|\n",
      "|Well, if Pelosi d...| politics|\n",
      "|What will public ...| politics|\n",
      "|&gt; trying to hi...| politics|\n",
      "|Uh, what about th...| politics|\n",
      "|It's staunchly an...| politics|\n",
      "|That was kind of ...| politics|\n",
      "|Good point. This ...| politics|\n",
      "|pn6, anyone can l...| politics|\n",
      "|Didn't seem that ...| politics|\n",
      "|&gt; Hey there sf...| politics|\n",
      "|           [deleted]| politics|\n",
      "|that kind of thin...| politics|\n",
      "|This occured only...| politics|\n",
      "|When is someone I...| politics|\n",
      "|No.  They both st...| politics|\n",
      "+--------------------+---------+\n",
      "only showing top 20 rows\n",
      "\n"
     ]
    }
   ],
   "source": [
    "cons.show()"
   ]
  },
  {
   "cell_type": "code",
   "execution_count": 20,
   "id": "28c4425b",
   "metadata": {},
   "outputs": [
    {
     "name": "stderr",
     "output_type": "stream",
     "text": [
      "                                                                                \r"
     ]
    },
    {
     "data": {
      "text/plain": [
       "DataFrame[summary: string, body: string, subreddit: string]"
      ]
     },
     "execution_count": 20,
     "metadata": {},
     "output_type": "execute_result"
    }
   ],
   "source": [
    "cons.describe()"
   ]
  },
  {
   "cell_type": "code",
   "execution_count": 16,
   "id": "cb216e4b",
   "metadata": {},
   "outputs": [],
   "source": [
    "output = cons.take(1)"
   ]
  },
  {
   "cell_type": "code",
   "execution_count": 17,
   "id": "e09af52d",
   "metadata": {},
   "outputs": [],
   "source": [
    "first_comment = output[0].body"
   ]
  },
  {
   "cell_type": "code",
   "execution_count": 21,
   "id": "1015c82f",
   "metadata": {},
   "outputs": [
    {
     "name": "stdout",
     "output_type": "stream",
     "text": [
      "Number of comments in the politics selected subreddit:  113\n"
     ]
    }
   ],
   "source": [
    "num_politics_comments = len(first_comment)\n",
    "\n",
    "print(\"Number of comments in the politics selected subreddit: \", num_politics_comments)"
   ]
  },
  {
   "cell_type": "code",
   "execution_count": 22,
   "id": "2d19c967",
   "metadata": {},
   "outputs": [
    {
     "name": "stderr",
     "output_type": "stream",
     "text": [
      "                                                                                \r"
     ]
    },
    {
     "data": {
      "text/plain": [
       "DataFrame[summary: string, body: string, subreddit: string]"
      ]
     },
     "execution_count": 22,
     "metadata": {},
     "output_type": "execute_result"
    }
   ],
   "source": [
    "redComm1.describe()"
   ]
  },
  {
   "cell_type": "code",
   "execution_count": null,
   "id": "0e7414f9",
   "metadata": {},
   "outputs": [],
   "source": []
  }
 ],
 "metadata": {
  "kernelspec": {
   "display_name": "Python 3 (ipykernel)",
   "language": "python",
   "name": "python3"
  },
  "language_info": {
   "codemirror_mode": {
    "name": "ipython",
    "version": 3
   },
   "file_extension": ".py",
   "mimetype": "text/x-python",
   "name": "python",
   "nbconvert_exporter": "python",
   "pygments_lexer": "ipython3",
   "version": "3.10.6"
  }
 },
 "nbformat": 4,
 "nbformat_minor": 5
}
