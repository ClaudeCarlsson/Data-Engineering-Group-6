{
 "cells": [
  {
   "cell_type": "code",
   "execution_count": 2,
   "id": "3c8eb053",
   "metadata": {},
   "outputs": [],
   "source": [
    "from pyspark.sql import SparkSession\n",
    "from pyspark.sql.functions import trim, regexp_replace, lower, explode, trim, split\n",
    "from pyspark.sql.types import StructType, StructField, StringType\n",
    "import matplotlib.pyplot as plt"
   ]
  },
  {
   "cell_type": "code",
   "execution_count": 13,
   "id": "ca617396",
   "metadata": {},
   "outputs": [],
   "source": [
    "# Pick your word:\n",
    "word = \"haskell\""
   ]
  },
  {
   "cell_type": "code",
   "execution_count": 4,
   "id": "234b2e29",
   "metadata": {},
   "outputs": [],
   "source": [
    "# The code can currently not run with all years and months selected\n",
    "years = [\"06\", \"07\", \"08\", \"09\", \"10\"]\n",
    "# months = [\"01\", \"02\", \"03\", \"04\", \"05\", \"06\", \"07\", \"08\", \"09\", \"10\", \"11\", \"12\"]\n",
    "months = [\"01\"]"
   ]
  },
  {
   "cell_type": "code",
   "execution_count": 5,
   "id": "79e7d63f",
   "metadata": {},
   "outputs": [
    {
     "name": "stderr",
     "output_type": "stream",
     "text": [
      "WARNING: An illegal reflective access operation has occurred\n",
      "WARNING: Illegal reflective access by org.apache.spark.unsafe.Platform (file:/opt/spark/jars/spark-unsafe_2.12-3.2.3.jar) to constructor java.nio.DirectByteBuffer(long,int)\n",
      "WARNING: Please consider reporting this to the maintainers of org.apache.spark.unsafe.Platform\n",
      "WARNING: Use --illegal-access=warn to enable warnings of further illegal reflective access operations\n",
      "WARNING: All illegal access operations will be denied in a future release\n",
      "Using Spark's default log4j profile: org/apache/spark/log4j-defaults.properties\n",
      "Setting default log level to \"WARN\".\n",
      "To adjust logging level use sc.setLogLevel(newLevel). For SparkR, use setLogLevel(newLevel).\n",
      "23/03/12 18:33:21 WARN NativeCodeLoader: Unable to load native-hadoop library for your platform... using builtin-java classes where applicable\n"
     ]
    }
   ],
   "source": [
    "spark = SparkSession.builder\\\n",
    "    .master(\"spark://192.168.2.97:7077\") \\\n",
    "    .appName(\"claude_carlsson_hdfs\")\\\n",
    "    .config(\"spark.dynamicAllocation.enabled\", True)\\\n",
    "    .config(\"spark.dynamicAllocation.shuffleTracking.enabled\",True)\\\n",
    "    .config(\"spark.shuffle.service.enabled\", True)\\\n",
    "    .config(\"spark.dynamicAllocation.executorIdleTimeout\",\"30s\")\\\n",
    "    .config(\"spark.cores.max\", 5)\\\n",
    "    .getOrCreate()"
   ]
  },
  {
   "cell_type": "code",
   "execution_count": 6,
   "id": "0ffbd537",
   "metadata": {},
   "outputs": [],
   "source": [
    "def parse_json_body_to_string(json_filename):\n",
    "    # Read the json file\n",
    "    df = spark.read.json(json_filename)\n",
    "\n",
    "    # Make everything lowercase\n",
    "    my_df_lower = df.select(lower(\"body\").alias(\"lowercase_body\"))\n",
    "\n",
    "    # Remove all charachters that exist in charachters_to_delete\n",
    "    charachters_to_delete = \"[\\.,\\[\\]\\(\\):_\\-!?\\'\\+=;/&{}@$#*\\\"\\\\\\\\%><|~¨´¤]\"\n",
    "\n",
    "    my_df_clean = my_df_lower.withColumn(\"lowercase_body\", regexp_replace(my_df_lower.lowercase_body, charachters_to_delete, \"\"))\n",
    "\n",
    "    # Parse the body to words\n",
    "    my_df_words = my_df_clean.select(explode(split(\"lowercase_body\", \"\\s+\")).alias(\"word\"))\n",
    "\n",
    "    return my_df_words"
   ]
  },
  {
   "cell_type": "code",
   "execution_count": 7,
   "id": "b7d2ecb4",
   "metadata": {},
   "outputs": [],
   "source": [
    "def get_word_count():\n",
    "    word_count = {}\n",
    "    years = [\"06\", \"07\", \"08\", \"09\", \"10\"]\n",
    "    months = [\"01\"]\n",
    "    empty_schema = StructType([StructField(\"word\", StringType(), True),])\n",
    "\n",
    "    for year in years:\n",
    "        df_this_year = spark.createDataFrame([], empty_schema)\n",
    "\n",
    "        # Append all the months to the dataframe\n",
    "        for month in months:\n",
    "            df_month = parse_json_body_to_string(\"hdfs://192.168.2.97:50000/user/ubuntu/RC_20\" + year + \"-\" + month + \".json\")\n",
    "            df_this_year = df_this_year.union(df_month)\n",
    "\n",
    "        # Count and sort the words. Save the result in word_count\n",
    "        word_count_this_year = df_this_year.groupBy(\"word\").count().orderBy(\"count\", ascending=False)\n",
    "        year_string = \"20\" + year\n",
    "        word_count.update({year_string: word_count_this_year})\n",
    "        \n",
    "    return word_count"
   ]
  },
  {
   "cell_type": "code",
   "execution_count": 8,
   "id": "f9e29dd2",
   "metadata": {},
   "outputs": [],
   "source": [
    "import pyspark.sql.functions as ps_func\n",
    "\n",
    "def word_use_by_year(word, years, word_count):\n",
    "    word_count_by_year = []\n",
    "    \n",
    "    for year in years:\n",
    "        word_count_filtered = word_count[year].filter(ps_func.col(\"word\") == word)\n",
    "        if word_count_filtered == \"None\":\n",
    "            # If the filtered DataFrame is empty, set the count to zero\n",
    "            word_count_sum = 0\n",
    "        else:\n",
    "            # If the filtered DataFrame is not empty, sum the counts of the matching rows\n",
    "            word_count_sum = word_count_filtered.agg(ps_func.sum(\"count\")).collect()[0][0]\n",
    "\n",
    "        word_count_by_year.append(word_count_sum)\n",
    "    return word_count_by_year"
   ]
  },
  {
   "cell_type": "code",
   "execution_count": 9,
   "id": "9333e4f7",
   "metadata": {},
   "outputs": [
    {
     "name": "stderr",
     "output_type": "stream",
     "text": [
      "                                                                                \r"
     ]
    }
   ],
   "source": [
    "# Get word_count\n",
    "word_count = get_word_count()"
   ]
  },
  {
   "cell_type": "code",
   "execution_count": 14,
   "id": "f9568ef2",
   "metadata": {},
   "outputs": [
    {
     "name": "stderr",
     "output_type": "stream",
     "text": [
      "                                                                                \r"
     ]
    },
    {
     "data": {
      "image/png": "[encoded data removed]",
      "text/plain": [
       "<Figure size 640x480 with 1 Axes>"
      ]
     },
     "metadata": {},
     "output_type": "display_data"
    }
   ],
   "source": [
    "# Get all variables\n",
    "word = word.lower()\n",
    "years_available = list(word_count.keys())\n",
    "\n",
    "# Get the results\n",
    "word_count_per_year = word_use_by_year(word, years_available, word_count)\n",
    "\n",
    "# Draw a plot with the results\n",
    "_, ax = plt.subplots()\n",
    "bar_colors = ['tab:red', 'tab:blue']\n",
    "ax.bar(years_available, word_count_per_year, color=bar_colors)\n",
    "ax.set_ylabel('Word count')\n",
    "ax.set_title('Word count for \"' + word + '\" by each year')\n",
    "\n",
    "plt.show()"
   ]
  },
  {
   "cell_type": "code",
   "execution_count": null,
   "id": "2510494c",
   "metadata": {},
   "outputs": [],
   "source": [
    "spark.stop()"
   ]
  }
 ],
 "metadata": {
  "kernelspec": {
   "display_name": "Python 3 (ipykernel)",
   "language": "python",
   "name": "python3"
  },
  "language_info": {
   "codemirror_mode": {
    "name": "ipython",
    "version": 3
   },
   "file_extension": ".py",
   "mimetype": "text/x-python",
   "name": "python",
   "nbconvert_exporter": "python",
   "pygments_lexer": "ipython3",
   "version": "3.10.6"
  }
 },
 "nbformat": 4,
 "nbformat_minor": 5
}
