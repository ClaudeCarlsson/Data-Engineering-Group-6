{
 "cells": [
  {
   "cell_type": "code",
   "execution_count": 2,
   "id": "e5cbaa3d",
   "metadata": {},
   "outputs": [
    {
     "name": "stderr",
     "output_type": "stream",
     "text": [
      "Using Spark's default log4j profile: org/apache/spark/log4j-defaults.properties\n",
      "Setting default log level to \"WARN\".\n",
      "To adjust logging level use sc.setLogLevel(newLevel). For SparkR, use setLogLevel(newLevel).\n",
      "23/03/11 16:01:15 WARN NativeCodeLoader: Unable to load native-hadoop library for your platform... using builtin-java classes where applicable\n",
      "23/03/11 16:01:17 WARN ExecutorAllocationManager: Dynamic allocation without a shuffle service is an experimental feature.\n"
     ]
    }
   ],
   "source": [
    "from pyspark import SparkConf, SparkContext\n",
    "from pyspark.sql import SparkSession, SQLContext\n",
    "from pyspark.sql.types import *\n",
    "from pyspark.sql.functions import *\n",
    "\n",
    "spark = SparkSession.builder\\\n",
    "        .master(\"spark://192.168.2.97:7077\") \\\n",
    "        .appName(\"Group-6-Question-1-Claude\")\\\n",
    "        .config(\"spark.dynamicAllocation.enabled\", True)\\\n",
    "        .config(\"spark.dynamicAllocation.shuffleTracking.enabled\",True)\\\n",
    "        .config(\"spark.cores.max\", 2)\\\n",
    "        .getOrCreate()"
   ]
  },
  {
   "cell_type": "code",
   "execution_count": null,
   "id": "206bbc61",
   "metadata": {},
   "outputs": [],
   "source": []
  },
  {
   "cell_type": "code",
   "execution_count": 25,
   "id": "04e8dabe",
   "metadata": {},
   "outputs": [],
   "source": [
    "def parse_json_body_to_string(json_filename):\n",
    "    df = spark.read.json(json_filename)\n",
    "\n",
    "    my_df_lower = df.select(lower(\"body\").alias(\"lowercase_body\"))\n",
    "\n",
    "    charachters_to_delete = \"[\\.,\\[\\]\\(\\):_\\-!?\\'\\+=;/&{}@$#*\\\"\\\\\\\\%><|~¨´¤]\"\n",
    "\n",
    "    my_df_clean = my_df_lower.withColumn(\"lowercase_body\", regexp_replace(my_df_lower.lowercase_body, charachters_to_delete, \"\"))\n",
    "\n",
    "    my_df_words = my_df_clean.select(explode(split(\"lowercase_body\", \"\\s+\")).alias(\"word\"))\n",
    "\n",
    "    text_rdd = my_df_words.rdd\n",
    "\n",
    "    return text_rdd"
   ]
  },
  {
   "cell_type": "code",
   "execution_count": 21,
   "id": "0ccda13b",
   "metadata": {},
   "outputs": [],
   "source": []
  },
  {
   "cell_type": "code",
   "execution_count": 28,
   "id": "01978115",
   "metadata": {},
   "outputs": [
    {
     "data": {
      "text/plain": [
       "[Row(word='although'),\n",
       " Row(word='i'),\n",
       " Row(word='normally'),\n",
       " Row(word='think'),\n",
       " Row(word='all'),\n",
       " Row(word='deeply'),\n",
       " Row(word='religious'),\n",
       " Row(word='people'),\n",
       " Row(word='are'),\n",
       " Row(word='insane'),\n",
       " Row(word='and'),\n",
       " Row(word='the'),\n",
       " Row(word='moderates'),\n",
       " Row(word='lemmings'),\n",
       " Row(word='i'),\n",
       " Row(word='do'),\n",
       " Row(word='like'),\n",
       " Row(word='the'),\n",
       " Row(word='amish'),\n",
       " Row(word='people'),\n",
       " Row(word='theyre'),\n",
       " Row(word='like'),\n",
       " Row(word='a'),\n",
       " Row(word='mad'),\n",
       " Row(word='scientist'),\n",
       " Row(word='dangeroushttpwwwwashingtonpostcomwpdynarticlesa350642004dec29html'),\n",
       " Row(word='in'),\n",
       " Row(word='real'),\n",
       " Row(word='life'),\n",
       " Row(word='but'),\n",
       " Row(word='very'),\n",
       " Row(word='cool'),\n",
       " Row(word='to'),\n",
       " Row(word='see'),\n",
       " Row(word='on'),\n",
       " Row(word='tv'),\n",
       " Row(word='deleted'),\n",
       " Row(word='deleted'),\n",
       " Row(word='some'),\n",
       " Row(word='friends'),\n",
       " Row(word='and'),\n",
       " Row(word='i'),\n",
       " Row(word='are'),\n",
       " Row(word='working'),\n",
       " Row(word='on'),\n",
       " Row(word='a'),\n",
       " Row(word='way'),\n",
       " Row(word='of'),\n",
       " Row(word='dealing'),\n",
       " Row(word='with')]"
      ]
     },
     "execution_count": 28,
     "metadata": {},
     "output_type": "execute_result"
    }
   ],
   "source": [
    "df = parse_json_body_to_string(\"../RC_2006-07.json\")\n",
    "df.take(50)"
   ]
  },
  {
   "cell_type": "code",
   "execution_count": 31,
   "id": "56d541f9",
   "metadata": {},
   "outputs": [],
   "source": [
    "from operator import add\n",
    "\n",
    "def find_occurances(word_lst):\n",
    "    #map all words, with value 1\n",
    "    words_one = word_lst.map(lambda x: (x,1))\n",
    "\n",
    "    # Add all the ones for every word (by reduceByKey)\n",
    "    wordcount = words_one.reduceByKey(add)\n",
    "\n",
    "    # Sort in descending order\n",
    "    wordcount = wordcount.sortBy(lambda x: x[1], ascending=False)\n",
    "    \n",
    "    return wordcount\n"
   ]
  },
  {
   "cell_type": "code",
   "execution_count": 32,
   "id": "fb70db61",
   "metadata": {},
   "outputs": [
    {
     "name": "stderr",
     "output_type": "stream",
     "text": [
      "                                                                                \r"
     ]
    }
   ],
   "source": [
    "wc = find_occurances(df)"
   ]
  },
  {
   "cell_type": "code",
   "execution_count": 34,
   "id": "1637925b",
   "metadata": {},
   "outputs": [
    {
     "data": {
      "text/plain": [
       "[(Row(word='the'), 67622),\n",
       " (Row(word='to'), 39970),\n",
       " (Row(word='a'), 33636),\n",
       " (Row(word='of'), 31909),\n",
       " (Row(word='and'), 28881),\n",
       " (Row(word='is'), 24321),\n",
       " (Row(word='that'), 23704),\n",
       " (Row(word='i'), 22313),\n",
       " (Row(word='in'), 20066),\n",
       " (Row(word='it'), 17996),\n",
       " (Row(word='you'), 16429),\n",
       " (Row(word='for'), 12886),\n",
       " (Row(word='this'), 10831),\n",
       " (Row(word='are'), 10509),\n",
       " (Row(word='not'), 10383),\n",
       " (Row(word='be'), 10004),\n",
       " (Row(word='on'), 9965),\n",
       " (Row(word='have'), 9015),\n",
       " (Row(word='but'), 8931),\n",
       " (Row(word='with'), 8628),\n",
       " (Row(word='as'), 8457),\n",
       " (Row(word='they'), 8271),\n",
       " (Row(word='if'), 7329),\n",
       " (Row(word='was'), 6817),\n",
       " (Row(word='its'), 6727),\n",
       " (Row(word='or'), 6560),\n",
       " (Row(word='people'), 5773),\n",
       " (Row(word='what'), 5536),\n",
       " (Row(word='at'), 5508),\n",
       " (Row(word='about'), 5473)]"
      ]
     },
     "execution_count": 34,
     "metadata": {},
     "output_type": "execute_result"
    }
   ],
   "source": [
    "wc.take(30)"
   ]
  },
  {
   "cell_type": "code",
   "execution_count": 36,
   "id": "7d19c565",
   "metadata": {},
   "outputs": [],
   "source": [
    "spark.stop()"
   ]
  }
 ],
 "metadata": {
  "kernelspec": {
   "display_name": "Python 3 (ipykernel)",
   "language": "python",
   "name": "python3"
  },
  "language_info": {
   "codemirror_mode": {
    "name": "ipython",
    "version": 3
   },
   "file_extension": ".py",
   "mimetype": "text/x-python",
   "name": "python",
   "nbconvert_exporter": "python",
   "pygments_lexer": "ipython3",
   "version": "3.10.6"
  }
 },
 "nbformat": 4,
 "nbformat_minor": 5
}
