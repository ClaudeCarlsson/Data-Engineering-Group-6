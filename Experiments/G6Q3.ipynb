{
 "cells": [
  {
   "cell_type": "code",
   "execution_count": 1,
   "id": "8cedd214",
   "metadata": {},
   "outputs": [
    {
     "name": "stderr",
     "output_type": "stream",
     "text": [
      "WARNING: An illegal reflective access operation has occurred\n",
      "WARNING: Illegal reflective access by org.apache.spark.unsafe.Platform (file:/opt/spark/jars/spark-unsafe_2.12-3.2.3.jar) to constructor java.nio.DirectByteBuffer(long,int)\n",
      "WARNING: Please consider reporting this to the maintainers of org.apache.spark.unsafe.Platform\n",
      "WARNING: Use --illegal-access=warn to enable warnings of further illegal reflective access operations\n",
      "WARNING: All illegal access operations will be denied in a future release\n",
      "Using Spark's default log4j profile: org/apache/spark/log4j-defaults.properties\n",
      "Setting default log level to \"WARN\".\n",
      "To adjust logging level use sc.setLogLevel(newLevel). For SparkR, use setLogLevel(newLevel).\n",
      "23/03/13 13:52:15 WARN NativeCodeLoader: Unable to load native-hadoop library for your platform... using builtin-java classes where applicable\n"
     ]
    }
   ],
   "source": [
    "from pyspark.sql import SparkSession\n",
    "\n",
    "spark_session = SparkSession.builder\\\n",
    "        .master(\"spark://192.168.2.97:7077\") \\\n",
    "        .appName(\"Q3\")\\\n",
    "        .config(\"spark.dynamicAllocation.enabled\", True)\\\n",
    "        .config(\"spark.dynamicAllocation.shuffleTracking.enabled\",True)\\\n",
    "        .config(\"spark.cores.max\", 2)\\\n",
    "        .getOrCreate()\n",
    "\n",
    "spark_context = spark_session.sparkContext\n",
    "        #.config(\"spark.jars.packages\", \"uk.co.gresearch.spark:spark-extension_2.12:2.4.0-3.3\")\\\n",
    "spark_context.setLogLevel(\"ERROR\")"
   ]
  },
  {
   "cell_type": "code",
   "execution_count": 2,
   "id": "c4a54b6a",
   "metadata": {
    "scrolled": true
   },
   "outputs": [
    {
     "name": "stderr",
     "output_type": "stream",
     "text": [
      "                                                                                \r"
     ]
    }
   ],
   "source": [
    "redComm1 = spark_session.read.json(\"hdfs://192.168.2.97:50000/user/ubuntu/RC_2008-03.json\")\n",
    "redComm2 = spark_session.read.json(\"hdfs://192.168.2.97:50000/user/ubuntu/RC_2008-04.json\")"
   ]
  },
  {
   "cell_type": "code",
   "execution_count": 3,
   "id": "782f6a9e",
   "metadata": {},
   "outputs": [],
   "source": [
    "def json_file_read_and_count(json_filename):\n",
    "    df = spark_session.read.json(json_filename)\n",
    "\n",
    "    my_df_subreddit = df.select(\"subreddit\")\\\n",
    "        .groupBy(\"subreddit\")\\\n",
    "        .count()\\\n",
    "        .orderBy(\"count\", ascending=False)\n",
    "    \n",
    "    return my_df_subreddit"
   ]
  },
  {
   "cell_type": "code",
   "execution_count": 4,
   "id": "78041bb1",
   "metadata": {},
   "outputs": [
    {
     "name": "stdout",
     "output_type": "stream",
     "text": [
      "root\n",
      " |-- body: string (nullable = true)\n",
      " |-- subreddit: string (nullable = true)\n",
      "\n"
     ]
    }
   ],
   "source": [
    "redComm1.printSchema()"
   ]
  },
  {
   "cell_type": "code",
   "execution_count": 5,
   "id": "e9e7837f",
   "metadata": {},
   "outputs": [
    {
     "data": {
      "text/plain": [
       "[Row(subreddit='reddit.com'),\n",
       " Row(subreddit='reddit.com'),\n",
       " Row(subreddit='reddit.com'),\n",
       " Row(subreddit='reddit.com'),\n",
       " Row(subreddit='reddit.com')]"
      ]
     },
     "execution_count": 5,
     "metadata": {},
     "output_type": "execute_result"
    }
   ],
   "source": [
    "subs = redComm1.select('subreddit')\n",
    "subs.take(5)"
   ]
  },
  {
   "cell_type": "code",
   "execution_count": 6,
   "id": "ebc4a998",
   "metadata": {},
   "outputs": [],
   "source": [
    "subCountM1 = subs\\\n",
    "    .groupBy(\"subreddit\")\\\n",
    "    .count()\\\n",
    "    .orderBy(\"count\", ascending=False)"
   ]
  },
  {
   "cell_type": "code",
   "execution_count": 7,
   "id": "21fb3c44",
   "metadata": {},
   "outputs": [],
   "source": [
    "subCountM2 = redComm2\\\n",
    "    .select('subreddit')\\\n",
    "    .groupBy('subreddit')\\\n",
    "    .count()\\\n",
    "    .orderBy('count', ascending=False)"
   ]
  },
  {
   "cell_type": "code",
   "execution_count": 8,
   "id": "072212c5",
   "metadata": {},
   "outputs": [
    {
     "name": "stderr",
     "output_type": "stream",
     "text": [
      "\r",
      "[Stage 3:>                                                          (0 + 2) / 2]\r"
     ]
    },
    {
     "name": "stdout",
     "output_type": "stream",
     "text": [
      "+-------------+------+\n",
      "|    subreddit| count|\n",
      "+-------------+------+\n",
      "|   reddit.com|207092|\n",
      "|     politics| 83375|\n",
      "|  programming| 34642|\n",
      "|         pics| 25352|\n",
      "|      science| 22874|\n",
      "|     business| 14555|\n",
      "|    worldnews| 12725|\n",
      "|        funny| 10223|\n",
      "|entertainment|  9403|\n",
      "|       gaming|  9313|\n",
      "|         nsfw|  4036|\n",
      "|          WTF|  3276|\n",
      "|      offbeat|  2709|\n",
      "|   technology|  2645|\n",
      "|    Economics|  2313|\n",
      "|        obama|  1863|\n",
      "|      gadgets|  1714|\n",
      "|  environment|  1323|\n",
      "|    AskReddit|  1133|\n",
      "|       comics|  1029|\n",
      "+-------------+------+\n",
      "only showing top 20 rows\n",
      "\n"
     ]
    },
    {
     "name": "stderr",
     "output_type": "stream",
     "text": [
      "\r",
      "                                                                                \r"
     ]
    }
   ],
   "source": [
    "subCountM1.show()"
   ]
  },
  {
   "cell_type": "code",
   "execution_count": 9,
   "id": "4b39ab7b",
   "metadata": {},
   "outputs": [],
   "source": [
    "\n",
    "from pyspark.sql.functions import col\n",
    "joinedCount = subCountM2.select(col(\"subreddit\").alias(\"subreddit_new\"), col(\"count\").alias(\"count_new\"))\\\n",
    "    .join(subCountM1.select(col(\"subreddit\").alias(\"subreddit_old\"), col(\"count\").alias(\"count_old\")), col(\"subreddit_new\") == col(\"subreddit_old\"),\"left\")"
   ]
  },
  {
   "cell_type": "code",
   "execution_count": 10,
   "id": "7e619f2d",
   "metadata": {},
   "outputs": [
    {
     "name": "stderr",
     "output_type": "stream",
     "text": [
      "                                                                                \r"
     ]
    },
    {
     "name": "stdout",
     "output_type": "stream",
     "text": [
      "+-------------+---------+-------------+---------+\n",
      "|subreddit_new|count_new|subreddit_old|count_old|\n",
      "+-------------+---------+-------------+---------+\n",
      "|   reddit.com|   140944|   reddit.com|   207092|\n",
      "|     politics|    64532|     politics|    83375|\n",
      "|  programming|    40958|  programming|    34642|\n",
      "|         pics|    34426|         pics|    25352|\n",
      "|      science|    31727|      science|    22874|\n",
      "|    worldnews|    28143|    worldnews|    12725|\n",
      "|     business|    25699|     business|    14555|\n",
      "|        funny|    20824|        funny|    10223|\n",
      "|entertainment|    19519|entertainment|     9403|\n",
      "|       gaming|    10156|       gaming|     9313|\n",
      "|   technology|     9460|   technology|     2645|\n",
      "|    AskReddit|     4738|    AskReddit|     1133|\n",
      "|          WTF|     4413|          WTF|     3276|\n",
      "|      offbeat|     3626|      offbeat|     2709|\n",
      "|      gadgets|     2253|      gadgets|     1714|\n",
      "|         nsfw|     2114|         nsfw|     4036|\n",
      "|    Economics|     1982|    Economics|     2313|\n",
      "|      atheism|     1855|      atheism|      917|\n",
      "|       comics|     1516|       comics|     1029|\n",
      "|  environment|     1468|  environment|     1323|\n",
      "+-------------+---------+-------------+---------+\n",
      "only showing top 20 rows\n",
      "\n"
     ]
    }
   ],
   "source": [
    "joinedCount.show()"
   ]
  },
  {
   "cell_type": "code",
   "execution_count": 11,
   "id": "5a73fb49",
   "metadata": {
    "scrolled": true
   },
   "outputs": [
    {
     "name": "stderr",
     "output_type": "stream",
     "text": [
      "                                                                                \r"
     ]
    },
    {
     "name": "stdout",
     "output_type": "stream",
     "text": [
      "+-------------+---------+-------------+---------+----------+\n",
      "|subreddit_new|count_new|subreddit_old|count_old|count_diff|\n",
      "+-------------+---------+-------------+---------+----------+\n",
      "|   reddit.com|   140944|   reddit.com|   207092|    -66148|\n",
      "|     politics|    64532|     politics|    83375|    -18843|\n",
      "|  programming|    40958|  programming|    34642|      6316|\n",
      "|         pics|    34426|         pics|    25352|      9074|\n",
      "|      science|    31727|      science|    22874|      8853|\n",
      "|    worldnews|    28143|    worldnews|    12725|     15418|\n",
      "|     business|    25699|     business|    14555|     11144|\n",
      "|        funny|    20824|        funny|    10223|     10601|\n",
      "|entertainment|    19519|entertainment|     9403|     10116|\n",
      "|       gaming|    10156|       gaming|     9313|       843|\n",
      "|   technology|     9460|   technology|     2645|      6815|\n",
      "|    AskReddit|     4738|    AskReddit|     1133|      3605|\n",
      "|          WTF|     4413|          WTF|     3276|      1137|\n",
      "|      offbeat|     3626|      offbeat|     2709|       917|\n",
      "|      gadgets|     2253|      gadgets|     1714|       539|\n",
      "|         nsfw|     2114|         nsfw|     4036|     -1922|\n",
      "|    Economics|     1982|    Economics|     2313|      -331|\n",
      "|      atheism|     1855|      atheism|      917|       938|\n",
      "|       comics|     1516|       comics|     1029|       487|\n",
      "|  environment|     1468|  environment|     1323|       145|\n",
      "+-------------+---------+-------------+---------+----------+\n",
      "only showing top 20 rows\n",
      "\n"
     ]
    }
   ],
   "source": [
    "new_df = joinedCount.withColumn('count_diff', joinedCount.count_new - joinedCount.count_old)\n",
    "new_df.show()"
   ]
  },
  {
   "cell_type": "code",
   "execution_count": 18,
   "id": "e5a3b5dd",
   "metadata": {
    "scrolled": true
   },
   "outputs": [
    {
     "name": "stderr",
     "output_type": "stream",
     "text": [
      "                                                                                \r"
     ]
    },
    {
     "name": "stdout",
     "output_type": "stream",
     "text": [
      "+-------------+-------------+-------------+-------------+-------------+-------------+-------------+-------------+\n",
      "| subreddit_02|count_diff_02| subreddit_03|count_diff_03| subreddit_04|count_diff_04| subreddit_05|count_diff_05|\n",
      "+-------------+-------------+-------------+-------------+-------------+-------------+-------------+-------------+\n",
      "|    AskReddit|          715|    AskReddit|          274|    AskReddit|         3605|    AskReddit|         1416|\n",
      "|    Economics|          397|    Economics|         1902|    Economics|         -331|    Economics|          266|\n",
      "|          WTF|          762|          WTF|         2496|          WTF|         1137|          WTF|         1909|\n",
      "|      atheism|           89|      atheism|          822|      atheism|          938|      atheism|         1863|\n",
      "|     business|          -39|     business|        10939|     business|        11144|     business|         -665|\n",
      "|       comics|          503|       comics|          485|       comics|          487|       comics|            9|\n",
      "|entertainment|         2008|entertainment|         2510|entertainment|        10116|entertainment|         5078|\n",
      "|  environment|          409|  environment|          912|  environment|          145|  environment|          846|\n",
      "|        funny|          120|        funny|        10099|        funny|        10601|        funny|         6895|\n",
      "|      gadgets|         -390|      gadgets|          533|      gadgets|          539|      gadgets|         -389|\n",
      "|       gaming|         1596|       gaming|         5341|       gaming|          843|       gaming|        -2071|\n",
      "|         nsfw|          836|         nsfw|         2936|         nsfw|        -1922|         nsfw|         1411|\n",
      "|      offbeat|         1612|      offbeat|         1067|      offbeat|          917|      offbeat|         -221|\n",
      "|         pics|         5740|         pics|        19362|         pics|         9074|         pics|         9669|\n",
      "|     politics|       -35060|     politics|       -26518|     politics|       -18843|     politics|         9672|\n",
      "|  programming|        -8311|  programming|         3579|  programming|         6316|  programming|        -1128|\n",
      "|   reddit.com|        13519|   reddit.com|       -40832|   reddit.com|       -66148|   reddit.com|         8307|\n",
      "|      science|        -1976|      science|         6239|      science|         8853|      science|         3833|\n",
      "|        scifi|         null|        scifi|          229|        scifi|          254|        scifi|          936|\n",
      "|   technology|         1553|   technology|         1082|   technology|         6815|   technology|        12347|\n",
      "+-------------+-------------+-------------+-------------+-------------+-------------+-------------+-------------+\n",
      "only showing top 20 rows\n",
      "\n"
     ]
    }
   ],
   "source": [
    "from pyspark.sql.functions import trim, regexp_replace, lower, explode, trim, split\n",
    "from pyspark.sql.types import StructType, StructField, StringType\n",
    "\n",
    "years = [\"08\"]\n",
    "months = [\"01\", \"02\", \"03\", \"04\", \"05\", \"06\", \"07\", \"08\", \"09\", \"10\", \"11\", \"12\"]\n",
    "\n",
    "empty_schema = StructType([StructField(\"subreddit\", StringType(), True),])\n",
    "df_all_years = spark_session.createDataFrame([], empty_schema)\n",
    "\n",
    "\n",
    "for year in years:\n",
    "    i = 1\n",
    "    while i < 5:\n",
    "        lastMonth = json_file_read_and_count(\"hdfs://192.168.2.97:50000/user/ubuntu/RC_2008-\"+ months[i-1] + \".json\")\n",
    "        currentMonth = json_file_read_and_count(\"hdfs://192.168.2.97:50000/user/ubuntu/RC_2008-\"+ months[i] + \".json\")\n",
    "        \n",
    "        joinedCount = currentMonth.select(col(\"subreddit\").alias(\"subreddit_new\"), col(\"count\").alias(\"count_new\"))\\\n",
    "            .join(lastMonth.select(col(\"subreddit\").alias(\"subreddit_old\"), col(\"count\").alias(\"count_old\")), col(\"subreddit_new\") == col(\"subreddit_old\"),\"left\")\n",
    "        new_df = joinedCount.withColumn('count_diff', joinedCount.count_new - joinedCount.count_old)\n",
    "        \n",
    "        if i >= 2:\n",
    "            prevSubname = 'subreddit_'+str(months[i-1])\n",
    "        else:\n",
    "            prevSubname = 'subreddit'\n",
    "        \n",
    "        subname = 'subreddit_'+str(months[i])\n",
    "        countname = 'count_diff_'+str(months[i])\n",
    "        \n",
    "        df_all_years = df_all_years.join(new_df.select(col(\"subreddit_new\").alias(subname), col(\"count_diff\").alias(countname)), col(prevSubname) == col(subname),\"right\")\n",
    "        i += 1\n",
    "        \n",
    "df_all_years.drop(col(\"subreddit\")).show()"
   ]
  },
  {
   "cell_type": "code",
   "execution_count": null,
   "id": "d7b842b6",
   "metadata": {},
   "outputs": [],
   "source": []
  },
  {
   "cell_type": "code",
   "execution_count": null,
   "id": "37564b76",
   "metadata": {},
   "outputs": [],
   "source": [
    "spark_session.stop()"
   ]
  },
  {
   "cell_type": "code",
   "execution_count": null,
   "id": "78aa48db",
   "metadata": {},
   "outputs": [],
   "source": []
  }
 ],
 "metadata": {
  "kernelspec": {
   "display_name": "Python 3 (ipykernel)",
   "language": "python",
   "name": "python3"
  },
  "language_info": {
   "codemirror_mode": {
    "name": "ipython",
    "version": 3
   },
   "file_extension": ".py",
   "mimetype": "text/x-python",
   "name": "python",
   "nbconvert_exporter": "python",
   "pygments_lexer": "ipython3",
   "version": "3.10.6"
  }
 },
 "nbformat": 4,
 "nbformat_minor": 5
}
