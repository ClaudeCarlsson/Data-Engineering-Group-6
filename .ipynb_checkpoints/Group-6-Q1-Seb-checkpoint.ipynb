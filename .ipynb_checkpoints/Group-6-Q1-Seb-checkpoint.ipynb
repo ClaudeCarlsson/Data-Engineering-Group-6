{
 "cells": [
  {
   "cell_type": "code",
   "execution_count": 1,
   "id": "3d213ad8",
   "metadata": {},
   "outputs": [
    {
     "name": "stderr",
     "output_type": "stream",
     "text": [
      "WARNING: An illegal reflective access operation has occurred\n",
      "WARNING: Illegal reflective access by org.apache.spark.unsafe.Platform (file:/opt/spark/jars/spark-unsafe_2.12-3.2.3.jar) to constructor java.nio.DirectByteBuffer(long,int)\n",
      "WARNING: Please consider reporting this to the maintainers of org.apache.spark.unsafe.Platform\n",
      "WARNING: Use --illegal-access=warn to enable warnings of further illegal reflective access operations\n",
      "WARNING: All illegal access operations will be denied in a future release\n",
      "Using Spark's default log4j profile: org/apache/spark/log4j-defaults.properties\n",
      "Setting default log level to \"WARN\".\n",
      "To adjust logging level use sc.setLogLevel(newLevel). For SparkR, use setLogLevel(newLevel).\n",
      "23/03/12 16:45:14 WARN NativeCodeLoader: Unable to load native-hadoop library for your platform... using builtin-java classes where applicable\n",
      "23/03/12 16:45:17 WARN Utils: Service 'SparkUI' could not bind on port 4040. Attempting port 4041.\n",
      "23/03/12 16:45:17 WARN Utils: Service 'SparkUI' could not bind on port 4041. Attempting port 4042.\n"
     ]
    }
   ],
   "source": [
    "from pyspark import SparkConf, SparkContext\n",
    "from pyspark.sql import SparkSession, SQLContext\n",
    "from pyspark.sql.types import *\n",
    "from pyspark.sql.functions import *\n",
    "\n",
    "spark = SparkSession.builder\\\n",
    "        .master(\"spark://192.168.2.97:7077\") \\\n",
    "        .appName(\"Group-6-Question-1-Seb\")\\\n",
    "        .config(\"spark.dynamicAllocation.enabled\", True)\\\n",
    "        .config(\"spark.dynamicAllocation.shuffleTracking.enabled\",True)\\\n",
    "        .config(\"spark.cores.max\", 2)\\\n",
    "        .getOrCreate()\n",
    "\n"
   ]
  },
  {
   "cell_type": "code",
   "execution_count": 2,
   "id": "be6f558a",
   "metadata": {},
   "outputs": [],
   "source": [
    "def parse_json_body_to_string(json_filename):\n",
    "    # Read the json file\n",
    "    df = spark.read.json(json_filename)\n",
    "\n",
    "    # Make everything lowercase\n",
    "    my_df_lower = df.select(lower(\"body\").alias(\"lowercase_body\"))\n",
    "\n",
    "    # Remove all charachters that exist in charachters_to_delete\n",
    "    charachters_to_delete = \"[\\.,\\[\\]\\(\\):_\\-!?\\'\\+=;/&{}@$#*\\\"\\\\\\\\%><|~¨´¤]\"\n",
    "\n",
    "    my_df_clean = my_df_lower.withColumn(\"lowercase_body\", regexp_replace(my_df_lower.lowercase_body, charachters_to_delete, \"\"))\n",
    "\n",
    "    # Parse the body to words\n",
    "    my_df_words = my_df_clean.select(explode(split(\"lowercase_body\", \"\\s+\")).alias(\"word\"))\n",
    "\n",
    "    return my_df_words\n",
    "\n",
    "\n"
   ]
  },
  {
   "cell_type": "code",
   "execution_count": 3,
   "id": "7e28af78",
   "metadata": {},
   "outputs": [],
   "source": [
    "def sorted_word_occurances(df):\n",
    "    most_freq = df.groupBy(\"word\").count().sort(col('count').desc())\n",
    "    most_freq = most_freq.withColumnRenamed(\"count\", \"w_count\") #rename the col \n",
    "    return most_freq"
   ]
  },
  {
   "cell_type": "code",
   "execution_count": null,
   "id": "691859da",
   "metadata": {},
   "outputs": [
    {
     "name": "stderr",
     "output_type": "stream",
     "text": [
      "\r",
      "[Stage 0:>                                                          (0 + 0) / 2]\r"
     ]
    }
   ],
   "source": [
    "b=sorted_word_occurances(parse_json_body_to_string(\"hdfs://192.168.2.97:50000/user/ubuntu/RC_2007-05.json\"))\n",
    "b.show()"
   ]
  },
  {
   "cell_type": "code",
   "execution_count": null,
   "id": "f4e058d6",
   "metadata": {},
   "outputs": [],
   "source": [
    "df7 = parse_json_body_to_string(\"hdfs://192.168.2.97:50000/user/ubuntu/RC_2006-01.json\")\n",
    "df7.show()"
   ]
  },
  {
   "cell_type": "code",
   "execution_count": null,
   "id": "9b0f23d0",
   "metadata": {},
   "outputs": [],
   "source": [
    "word_count = {}\n",
    "years = [\"06\"]\n",
    "months = [\"01\", \"02\", \"03\", \"04\", \"05\", \"06\", \"07\", \"08\", \"09\", \"10\", \"11\", \"12\"]\n",
    "\n",
    "empty_schema = StructType([StructField(\"word\", StringType(), True),])\n",
    "df_all_years = spark.createDataFrame([], empty_schema)\n",
    "\n",
    "for year in years:\n",
    "    df_this_year = spark.createDataFrame([], empty_schema)\n",
    "    \n",
    "    # Append all the months to the dataframe\n",
    "    for month in months:\n",
    "        df_month = parse_json_body_to_string(\"hdfs://192.168.2.97:50000/user/ubuntu/RC_20\" + year + \"-\" + month + \".json\")\n",
    "        df_this_year = df_this_year.union(df_month)\n",
    "    \n",
    "    # Count and sort the words. Save the result in word_count\n",
    "    word_count_this_year = df_this_year.groupBy(\"word\").count().orderBy(\"count\", ascending=False)\n",
    "    year_string = \"20\" + year\n",
    "    word_count.update({year_string: word_count_this_year})\n",
    "    word_count_this_year.show()\n",
    "\"\"\"\n",
    "    # Sort df_this_year and update df_all_years\n",
    "    df_this_year = df_this_year.sort('count', ascending=False)\n",
    "    df_all_years = df_all_years.union(df_this_year)\n",
    "\n",
    "# Find top 1000 most used words\n",
    "word_count_all_years = df_all_years.groupBy(\"word\").count().orderBy(\"count\", ascending=False)\n",
    "word_count_all_years = word_count_all_years.sort('count', ascending=False)\n",
    "word_count.update({\"all_years\": word_count_all_years})\n",
    "most_common_words = word_count[\"all_years\"].limit(1000)\n",
    "\n",
    "# Remove the most common words from the word count for each year\n",
    "word_count_unique = {}\n",
    "for year in years:\n",
    "    year_string = \"20\" + year\n",
    "    word_count_unique.update({year_string: word_count[year_string].subtract(most_common_words)})\n",
    "    word_count_unique[year_string] = word_count_unique[year_string].sort('count', ascending=False)\"\"\""
   ]
  },
  {
   "cell_type": "code",
   "execution_count": null,
   "id": "df5f5c53",
   "metadata": {},
   "outputs": [],
   "source": []
  },
  {
   "cell_type": "code",
   "execution_count": null,
   "id": "78c9cd37",
   "metadata": {},
   "outputs": [],
   "source": []
  },
  {
   "cell_type": "code",
   "execution_count": null,
   "id": "ee4422d4",
   "metadata": {},
   "outputs": [],
   "source": []
  },
  {
   "cell_type": "code",
   "execution_count": null,
   "id": "1005814d",
   "metadata": {},
   "outputs": [],
   "source": []
  },
  {
   "cell_type": "code",
   "execution_count": null,
   "id": "f1cf552c",
   "metadata": {},
   "outputs": [],
   "source": []
  },
  {
   "cell_type": "code",
   "execution_count": null,
   "id": "560b672b",
   "metadata": {},
   "outputs": [],
   "source": []
  },
  {
   "cell_type": "code",
   "execution_count": null,
   "id": "3833685c",
   "metadata": {},
   "outputs": [],
   "source": []
  },
  {
   "cell_type": "code",
   "execution_count": null,
   "id": "3d4d5c3e",
   "metadata": {},
   "outputs": [],
   "source": []
  },
  {
   "cell_type": "code",
   "execution_count": null,
   "id": "3d35c9e1",
   "metadata": {},
   "outputs": [],
   "source": [
    "spark.stop()"
   ]
  },
  {
   "cell_type": "code",
   "execution_count": null,
   "id": "1dab164a",
   "metadata": {},
   "outputs": [],
   "source": []
  }
 ],
 "metadata": {
  "kernelspec": {
   "display_name": "Python 3 (ipykernel)",
   "language": "python",
   "name": "python3"
  },
  "language_info": {
   "codemirror_mode": {
    "name": "ipython",
    "version": 3
   },
   "file_extension": ".py",
   "mimetype": "text/x-python",
   "name": "python",
   "nbconvert_exporter": "python",
   "pygments_lexer": "ipython3",
   "version": "3.10.6"
  }
 },
 "nbformat": 4,
 "nbformat_minor": 5
}
