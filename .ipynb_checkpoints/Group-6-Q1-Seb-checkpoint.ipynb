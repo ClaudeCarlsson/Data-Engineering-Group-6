{
 "cells": [
  {
   "cell_type": "code",
   "execution_count": 1,
   "id": "96a6e7fa",
   "metadata": {},
   "outputs": [],
   "source": [
    "from pyspark import SparkConf, SparkContext\n",
    "from pyspark.sql import SparkSession, SQLContext\n",
    "from pyspark.sql.types import *\n",
    "from pyspark.sql.functions import *\n",
    "\n",
    "spark = SparkSession.builder\\\n",
    "        .master(\"spark://192.168.2.97:7077\") \\\n",
    "        .appName(\"Group-6-Question-1-Seb\")\\\n",
    "        .config(\"spark.dynamicAllocation.enabled\", True)\\\n",
    "        .config(\"spark.dynamicAllocation.shuffleTracking.enabled\",True)\\\n",
    "        .config(\"spark.cores.max\", 2)\\\n",
    "        .getOrCreate()\n",
    "\n"
   ]
  },
  {
   "cell_type": "code",
   "execution_count": 2,
   "id": "fefcd6a8",
   "metadata": {},
   "outputs": [],
   "source": [
    "def parse_json_body_to_string(json_filename):\n",
    "    df = spark.read.json(json_filename)\n",
    "\n",
    "    my_df_lower = df.select(lower(\"body\").alias(\"lowercase_body\"))\n",
    "\n",
    "    charachters_to_delete = \"[\\.,\\[\\]\\(\\):_\\-!?\\'\\+=;/&{}@$#*\\\"\\\\\\\\%><|~¨´¤]\"\n",
    "\n",
    "    my_df_clean = my_df_lower.withColumn(\"lowercase_body\", regexp_replace(my_df_lower.lowercase_body, charachters_to_delete, \"\"))\n",
    "\n",
    "    my_df_words = my_df_clean.select(explode(split(\"lowercase_body\", \"\\s+\")).alias(\"word\"))\n",
    "\n",
    "    text_rdd = my_df_words.rdd\n",
    "\n",
    "    return text_rdd\n",
    "\n",
    "\n",
    "\n",
    "\n",
    "\n",
    "\n",
    "from operator import add\n",
    "\n",
    "def find_occurances(word_lst):\n",
    "    #map all words, with value 1\n",
    "    words_one = word_lst.map(lambda x: (x,1))\n",
    "\n",
    "    # Add all the ones for every word (by reduceByKey)\n",
    "    wordcount = words_one.reduceByKey(add)\n",
    "\n",
    "    # Sort in descending order\n",
    "    wordcount = wordcount.sortBy(lambda x: x[1], ascending=False)\n",
    "    \n",
    "    return wordcount"
   ]
  },
  {
   "cell_type": "code",
   "execution_count": 3,
   "id": "5f544f81",
   "metadata": {},
   "outputs": [],
   "source": [
    "df = parse_json_body_to_string(\"../RC_2006-07.json\")\n",
    "wc = find_occurances(df)"
   ]
  },
  {
   "cell_type": "code",
   "execution_count": 4,
   "id": "916448b3",
   "metadata": {},
   "outputs": [],
   "source": [
    "wc.take(30)"
   ]
  },
  {
   "cell_type": "code",
   "execution_count": null,
   "id": "33d359ff",
   "metadata": {},
   "outputs": [],
   "source": []
  },
  {
   "cell_type": "code",
   "execution_count": null,
   "id": "f995aa0b",
   "metadata": {},
   "outputs": [],
   "source": []
  },
  {
   "cell_type": "code",
   "execution_count": null,
   "id": "1485e18e",
   "metadata": {},
   "outputs": [],
   "source": []
  },
  {
   "cell_type": "code",
   "execution_count": null,
   "id": "0e6b320c",
   "metadata": {},
   "outputs": [],
   "source": []
  }
 ],
 "metadata": {
  "kernelspec": {
   "display_name": "Python 3 (ipykernel)",
   "language": "python",
   "name": "python3"
  },
  "language_info": {
   "codemirror_mode": {
    "name": "ipython",
    "version": 3
   },
   "file_extension": ".py",
   "mimetype": "text/x-python",
   "name": "python",
   "nbconvert_exporter": "python",
   "pygments_lexer": "ipython3",
   "version": "3.10.6"
  }
 },
 "nbformat": 4,
 "nbformat_minor": 5
}
