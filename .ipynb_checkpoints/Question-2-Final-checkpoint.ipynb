{
 "cells": [
  {
   "cell_type": "code",
   "execution_count": null,
   "id": "1f90cdfd",
   "metadata": {},
   "outputs": [],
   "source": [
    "import time\n",
    "\n",
    "# Import necessary packages for spark, and processing the data with spark\n",
    "\n",
    "from pyspark.sql import SparkSession\n",
    "from pyspark.sql.functions import trim, regexp_replace, lower, explode, trim, split, lit\n",
    "from pyspark.sql.types import StructType, StructField, StringType\n",
    "\n",
    "# In some cases we need to differentiate pyspark functions from built in functions\n",
    "\n",
    "import pyspark.sql.functions as py_func"
   ]
  },
  {
   "cell_type": "code",
   "execution_count": null,
   "id": "0fcdb430",
   "metadata": {},
   "outputs": [],
   "source": [
    "# Create a spark session\n",
    "\n",
    "spark = SparkSession.builder\\\n",
    "    .master(\"spark://192.168.2.97:7077\") \\\n",
    "    .appName(\"Question-2-Final\")\\\n",
    "    .config(\"spark.dynamicAllocation.enabled\", True)\\\n",
    "    .config(\"spark.dynamicAllocation.shuffleTracking.enabled\",True)\\\n",
    "    .config(\"spark.shuffle.service.enabled\", True)\\\n",
    "    .config(\"spark.dynamicAllocation.executorIdleTimeout\",\"30s\")\\\n",
    "    .config(\"spark.executor.memory\", \"2048m\")\\\n",
    "    .config(\"spark.cores.max\", 8)\\\n",
    "    .getOrCreate()"
   ]
  },
  {
   "cell_type": "code",
   "execution_count": null,
   "id": "2b4f8077",
   "metadata": {},
   "outputs": [],
   "source": [
    "start_time = time.time()"
   ]
  },
  {
   "cell_type": "code",
   "execution_count": null,
   "id": "125671eb",
   "metadata": {},
   "outputs": [],
   "source": [
    "# Function for parsing the body of the json\n",
    "\n",
    "def parse_json_body(file):\n",
    "    \n",
    "    # Read the json file\n",
    "    df = spark.read.json(file)\n",
    "\n",
    "    # Lowercase the file\n",
    "    df_lowercase_body = df.select(lower(\"body\").alias(\"lowercase_body\"))\n",
    "\n",
    "    # String of characters to delete in the body\n",
    "    charachters_to_delete = \"[\\.,\\[\\]\\(\\):_\\-!?\\'\\+=;/&{}@$#*\\\"\\\\\\\\%><|~¨´¤]\"\n",
    "\n",
    "    # Remove characters from body\n",
    "    df_clean = df_lowercase_body.withColumn(\"lowercase_body\", regexp_replace(df_lowercase_body.lowercase_body, charachters_to_delete, \"\"))\n",
    "\n",
    "    # Split body into words and make a row for each word\n",
    "    df_words = df_clean.select(explode(split(\"lowercase_body\", \"\\s+\")).alias(\"word\"))\n",
    "\n",
    "    return df_words"
   ]
  },
  {
   "cell_type": "code",
   "execution_count": null,
   "id": "69f399ae",
   "metadata": {},
   "outputs": [],
   "source": [
    "# The function that reterives the data from the HDFS and preprocess it\n",
    "\n",
    "def get_word_count_and_df_all_years(years):\n",
    "    # Create dictionary, schema, and a dataframe with that schema\n",
    "    word_count = {}\n",
    "    schema = StructType([StructField(\"word\", StringType(), True),])\n",
    "    df_all_years = spark.createDataFrame([], schema)\n",
    "\n",
    "    # Loop over the years\n",
    "    for year in years:\n",
    "        df_current_year = spark.createDataFrame([], schema)\n",
    "\n",
    "        # Append all the months to the dataframe\n",
    "        for month in [\"01\", \"02\", \"03\", \"04\", \"05\", \"06\", \"07\", \"08\", \"09\", \"10\", \"11\", \"12\"]:\n",
    "            df_current_month = parse_json_body(\"hdfs://192.168.2.97:50000/user/ubuntu/RC_20\" + year + \"-\" + month + \".json\")\n",
    "            df_current_year = df_current_year.union(df_current_month)\n",
    "\n",
    "        # Count and sort the words, save the result in word_count\n",
    "        word_count_current_year = df_current_year.groupBy(\"word\").count().orderBy(\"count\", ascending=False)\n",
    "        word_count.update({\"20\" + year: word_count_current_year})\n",
    "\n",
    "        # Add current year to the dataframe\n",
    "        df_all_years = df_all_years.union(df_current_year)\n",
    "    return word_count, df_all_years"
   ]
  },
  {
   "cell_type": "code",
   "execution_count": null,
   "id": "61f77527",
   "metadata": {},
   "outputs": [],
   "source": [
    "# The years we are going to use\n",
    "#years = [\"06\", \"07\", \"08\", \"09\", \"10\"]\n",
    "years = [\"07\"] # For time test\n",
    "\n",
    "# Get the word_count dictionary and the datframe\n",
    "word_count, _ = get_word_count_and_df_all_years(years)"
   ]
  },
  {
   "cell_type": "code",
   "execution_count": null,
   "id": "4ae94d32",
   "metadata": {},
   "outputs": [],
   "source": [
    "# The words we are going to analyze\n",
    "search_words = [\"football\", \"code\", \"bush\", \"blog\", \"vote\", \"obama\", \"market\", \"rights\", \"science\", \"information\", \"woman\", \"lol\", \"iphone\", \"bitcoin\", \"instagram\", \"facebook\", \"spotify\", \"sweden\", \"wikileaks\", \"torrent\", \"man\", \"twitter\"]\n",
    "\n",
    "# Create a DataFrame with all search words and set the count to zero\n",
    "all_words_df = spark.createDataFrame([(word, 0) for word in search_words], [\"word\", \"count\"])\n",
    "for year in years:\n",
    "    # Filter the DataFrame to keep only the rows that contain the search words\n",
    "    filtered_df = word_count.get(\"20\"+year).filter(py_func.col(\"word\").isin(search_words))\n",
    "\n",
    "    # Compute the sum of the counts for each word\n",
    "    word_count_df = filtered_df.groupBy(\"word\").agg(py_func.sum(\"count\").alias(\"sum 20\"+year))\n",
    "\n",
    "    # Sum the column count\n",
    "    total_count = word_count_df.select(py_func.sum(\"sum 20\"+year)).collect()[0][0]\n",
    "    \n",
    "    # Divide the sum of the counts by the total number of words\n",
    "    word_count_df = word_count_df.withColumn(\"% 20\"+year, py_func.round(py_func.col(\"sum 20\"+year)/(total_count/100),1))\n",
    "\n",
    "    # Left outer join the two DataFrames and replace null counts with zeros\n",
    "    all_words_df = all_words_df.join(word_count_df, [\"word\"], \"left_outer\").na.fill({\"sum 20\"+year: 0}).drop(\"count\")\n",
    "\n",
    "# Show the result\n",
    "all_words_df.orderBy(\"word\").show(len(search_words))\n"
   ]
  },
  {
   "cell_type": "code",
   "execution_count": null,
   "id": "cb3da097",
   "metadata": {},
   "outputs": [],
   "source": [
    "end_time = time.time()\n",
    "print(f\"Elapsed time: {end_time - start_time} seconds\")"
   ]
  },
  {
   "cell_type": "code",
   "execution_count": null,
   "id": "aa906f65",
   "metadata": {},
   "outputs": [],
   "source": [
    "spark.stop()"
   ]
  }
 ],
 "metadata": {
  "kernelspec": {
   "display_name": "Python 3 (ipykernel)",
   "language": "python",
   "name": "python3"
  },
  "language_info": {
   "codemirror_mode": {
    "name": "ipython",
    "version": 3
   },
   "file_extension": ".py",
   "mimetype": "text/x-python",
   "name": "python",
   "nbconvert_exporter": "python",
   "pygments_lexer": "ipython3",
   "version": "3.10.6"
  }
 },
 "nbformat": 4,
 "nbformat_minor": 5
}
