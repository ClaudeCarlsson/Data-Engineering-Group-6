{
 "cells": [
  {
   "cell_type": "code",
   "execution_count": null,
   "id": "01f1113d",
   "metadata": {},
   "outputs": [],
   "source": [
    "import time\n",
    "\n",
    "# Import necessary packages for spark, and processing the data with spark\n",
    "\n",
    "from pyspark.sql import SparkSession\n",
    "from pyspark.sql.functions import trim, regexp_replace, lower, explode, trim, split, lit, row_number, year, dense_rank, desc, monotonically_increasing_id\n",
    "from pyspark.sql.types import StructType, StructField, StringType, IntegerType\n",
    "from pyspark.sql.window import Window\n",
    "\n",
    "# In some cases we need to differentiate pyspark functions from built in functions\n",
    "\n",
    "import pyspark.sql.functions as py_func"
   ]
  },
  {
   "cell_type": "code",
   "execution_count": null,
   "id": "7516033f",
   "metadata": {},
   "outputs": [],
   "source": [
    "# Create a spark session\n",
    "\n",
    "spark = SparkSession.builder\\\n",
    "    .master(\"spark://192.168.2.97:7077\") \\\n",
    "    .appName(\"Question-3-Final\")\\\n",
    "    .config(\"spark.dynamicAllocation.enabled\", True)\\\n",
    "    .config(\"spark.dynamicAllocation.shuffleTracking.enabled\",True)\\\n",
    "    .config(\"spark.shuffle.service.enabled\", True)\\\n",
    "    .config(\"spark.dynamicAllocation.executorIdleTimeout\",\"30s\")\\\n",
    "    .config(\"spark.executor.memory\", \"2048m\")\\\n",
    "    .config(\"spark.cores.max\", 8)\\\n",
    "    .getOrCreate()"
   ]
  },
  {
   "cell_type": "code",
   "execution_count": null,
   "id": "40a10f9a",
   "metadata": {},
   "outputs": [],
   "source": [
    "start_time = time.time()"
   ]
  },
  {
   "cell_type": "code",
   "execution_count": null,
   "id": "df37a6c8",
   "metadata": {},
   "outputs": [],
   "source": [
    "# Function for parsing the subreddit of the json\n",
    "\n",
    "def parse_json_subreddit(file):\n",
    "    \n",
    "    # Read the json file\n",
    "    df = spark.read.json(file)\n",
    "    \n",
    "    # Split the subreddit column into an array of strings\n",
    "    df = df.withColumn(\"subreddit_array\", split(df.subreddit, \"\\s+\"))\n",
    "    \n",
    "    # Make a row for each subreddit\n",
    "    df_subreddits = df.select(explode(\"subreddit_array\").alias(\"subreddits\")).filter(\"subreddits != 'reddit.com'\")\n",
    "\n",
    "    return df_subreddits"
   ]
  },
  {
   "cell_type": "code",
   "execution_count": null,
   "id": "f8f64d74",
   "metadata": {},
   "outputs": [],
   "source": [
    "# The function that reterives the data from the HDFS and preprocess it\n",
    "\n",
    "def get_word_count_and_df_all_years(years):\n",
    "    # Create dictionary, schema, and a dataframe with that schema\n",
    "    word_count = {}\n",
    "    schema = StructType([StructField(\"subreddits\", StringType(), True),])\n",
    "    df_all_years = spark.createDataFrame([], schema)\n",
    "\n",
    "    # Loop over the years\n",
    "    for year in years:\n",
    "        df_current_year = spark.createDataFrame([], schema)\n",
    "\n",
    "        # Append all the months to the dataframe\n",
    "        for month in [\"01\", \"02\", \"03\", \"04\", \"05\", \"06\", \"07\", \"08\", \"09\", \"10\", \"11\", \"12\"]:\n",
    "            df_current_month = parse_json_subreddit(\"hdfs://192.168.2.97:50000/user/ubuntu/RC_20\" + year + \"-\" + month + \".json\")\n",
    "            df_current_year = df_current_year.union(df_current_month)\n",
    "\n",
    "        # Count and sort the words, save the result in word_count\n",
    "        word_count_current_year = df_current_year.groupBy(\"subreddits\").count().orderBy(\"count\", ascending=False)\n",
    "        word_count.update({\"20\" + year: word_count_current_year})\n",
    "\n",
    "        # Add current year to the dataframe\n",
    "        df_all_years = df_all_years.union(df_current_year)\n",
    "    return word_count, df_all_years"
   ]
  },
  {
   "cell_type": "code",
   "execution_count": null,
   "id": "f1b83a3a",
   "metadata": {},
   "outputs": [],
   "source": [
    "# The years we are going to use\n",
    "#years = [\"06\", \"07\", \"08\", \"09\", \"10\"]\n",
    "years = [\"07\"] # For time test\n",
    "\n",
    "# Get the word_count dictionary and the datframe\n",
    "word_count, _ = get_word_count_and_df_all_years(years)"
   ]
  },
  {
   "cell_type": "code",
   "execution_count": null,
   "id": "f4c2326b",
   "metadata": {},
   "outputs": [],
   "source": [
    "# Print unique words for each year\n",
    "for year in years:\n",
    "    print(\"The 10 most active subreddits for year: 20\" + year)\n",
    "    word_count[\"20\" + year].show(10)"
   ]
  },
  {
   "cell_type": "code",
   "execution_count": null,
   "id": "679b0aeb",
   "metadata": {},
   "outputs": [],
   "source": [
    "end_time = time.time()\n",
    "print(f\"Elapsed time: {end_time - start_time} seconds\")"
   ]
  },
  {
   "cell_type": "code",
   "execution_count": null,
   "id": "2b261c4c",
   "metadata": {},
   "outputs": [],
   "source": [
    "spark.stop()"
   ]
  }
 ],
 "metadata": {
  "kernelspec": {
   "display_name": "Python 3 (ipykernel)",
   "language": "python",
   "name": "python3"
  },
  "language_info": {
   "codemirror_mode": {
    "name": "ipython",
    "version": 3
   },
   "file_extension": ".py",
   "mimetype": "text/x-python",
   "name": "python",
   "nbconvert_exporter": "python",
   "pygments_lexer": "ipython3",
   "version": "3.10.6"
  }
 },
 "nbformat": 4,
 "nbformat_minor": 5
}
