{
 "cells": [
  {
   "cell_type": "code",
   "execution_count": 11,
   "id": "3c8eb053",
   "metadata": {},
   "outputs": [],
   "source": [
    "from pyspark.sql import SparkSession\n",
    "\n",
    "spark_session = SparkSession.builder\\\n",
    "        .master(\"spark://192.168.2.97:7077\") \\\n",
    "        .appName(\"test\")\\\n",
    "        .config(\"spark.dynamicAllocation.enabled\", True)\\\n",
    "        .config(\"spark.dynamicAllocation.shuffleTracking.enabled\",True)\\\n",
    "        .config(\"spark.cores.max\", 2)\\\n",
    "        .getOrCreate()\n",
    "\n",
    "spark_context = spark_session.sparkContext\n",
    "\n",
    "spark_context.setLogLevel(\"ERROR\")"
   ]
  },
  {
   "cell_type": "code",
   "execution_count": 12,
   "id": "79e7d63f",
   "metadata": {},
   "outputs": [],
   "source": [
    "fileRDD = spark_context.textFile(\"../RC_2011-01\")"
   ]
  },
  {
   "cell_type": "code",
   "execution_count": 17,
   "id": "0ffbd537",
   "metadata": {},
   "outputs": [
    {
     "ename": "NameError",
     "evalue": "name 'toDF' is not defined",
     "output_type": "error",
     "traceback": [
      "\u001b[0;31m---------------------------------------------------------------------------\u001b[0m",
      "\u001b[0;31mNameError\u001b[0m                                 Traceback (most recent call last)",
      "Cell \u001b[0;32mIn[17], line 1\u001b[0m\n\u001b[0;32m----> 1\u001b[0m \u001b[43mtoDF\u001b[49m(fileRDD)\n",
      "\u001b[0;31mNameError\u001b[0m: name 'toDF' is not defined"
     ]
    }
   ],
   "source": [
    "toDF(fileRDD)"
   ]
  },
  {
   "cell_type": "code",
   "execution_count": null,
   "id": "b7d2ecb4",
   "metadata": {},
   "outputs": [],
   "source": []
  }
 ],
 "metadata": {
  "kernelspec": {
   "display_name": "Python 3 (ipykernel)",
   "language": "python",
   "name": "python3"
  },
  "language_info": {
   "codemirror_mode": {
    "name": "ipython",
    "version": 3
   },
   "file_extension": ".py",
   "mimetype": "text/x-python",
   "name": "python",
   "nbconvert_exporter": "python",
   "pygments_lexer": "ipython3",
   "version": "3.10.6"
  }
 },
 "nbformat": 4,
 "nbformat_minor": 5
}
