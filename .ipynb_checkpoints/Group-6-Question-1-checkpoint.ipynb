{
 "cells": [
  {
   "cell_type": "code",
   "execution_count": null,
   "id": "3c8eb053",
   "metadata": {},
   "outputs": [],
   "source": [
    "from pyspark.sql import SparkSession\n",
    "from pyspark.sql.functions import trim, regexp_replace, lower, explode, trim, split\n",
    "from pyspark.sql.types import StructType, StructField, StringType"
   ]
  },
  {
   "cell_type": "code",
   "execution_count": null,
   "id": "f3f847ab",
   "metadata": {},
   "outputs": [],
   "source": [
    "# The code can currently not run with all years and months selected\n",
    "years = [\"06\", \"07\", \"08\", \"09\", \"10\"]\n",
    "# months = [\"01\", \"02\", \"03\", \"04\", \"05\", \"06\", \"07\", \"08\", \"09\", \"10\", \"11\", \"12\"]\n",
    "months = [\"01\"]"
   ]
  },
  {
   "cell_type": "code",
   "execution_count": null,
   "id": "79e7d63f",
   "metadata": {},
   "outputs": [],
   "source": [
    "spark = SparkSession.builder\\\n",
    "    .master(\"spark://192.168.2.97:7077\") \\\n",
    "    .appName(\"claude_carlsson_hdfs\")\\\n",
    "    .config(\"spark.dynamicAllocation.enabled\", True)\\\n",
    "    .config(\"spark.dynamicAllocation.shuffleTracking.enabled\",True)\\\n",
    "    .config(\"spark.shuffle.service.enabled\", True)\\\n",
    "    .config(\"spark.dynamicAllocation.executorIdleTimeout\",\"30s\")\\\n",
    "    .config(\"spark.cores.max\", 5)\\\n",
    "    .getOrCreate()"
   ]
  },
  {
   "cell_type": "code",
   "execution_count": null,
   "id": "0ffbd537",
   "metadata": {},
   "outputs": [],
   "source": [
    "def parse_json_body_to_string(json_filename):\n",
    "    # Read the json file\n",
    "    df = spark.read.json(json_filename)\n",
    "\n",
    "    # Make everything lowercase\n",
    "    my_df_lower = df.select(lower(\"body\").alias(\"lowercase_body\"))\n",
    "\n",
    "    # Remove all charachters that exist in charachters_to_delete\n",
    "    charachters_to_delete = \"[\\.,\\[\\]\\(\\):_\\-!?\\'\\+=;/&{}@$#*\\\"\\\\\\\\%><|~¨´¤]\"\n",
    "\n",
    "    my_df_clean = my_df_lower.withColumn(\"lowercase_body\", regexp_replace(my_df_lower.lowercase_body, charachters_to_delete, \"\"))\n",
    "\n",
    "    # Parse the body to words\n",
    "    my_df_words = my_df_clean.select(explode(split(\"lowercase_body\", \"\\s+\")).alias(\"word\"))\n",
    "\n",
    "    return my_df_words"
   ]
  },
  {
   "cell_type": "code",
   "execution_count": null,
   "id": "b7d2ecb4",
   "metadata": {},
   "outputs": [],
   "source": [
    "def get_word_count_and_df_all_years():\n",
    "    word_count = {}\n",
    "    empty_schema = StructType([StructField(\"word\", StringType(), True),])\n",
    "    df_all_years = spark.createDataFrame([], empty_schema)\n",
    "\n",
    "    for year in years:\n",
    "        df_this_year = spark.createDataFrame([], empty_schema)\n",
    "\n",
    "        # Append all the months to the dataframe\n",
    "        for month in months:\n",
    "            df_month = parse_json_body_to_string(\"hdfs://192.168.2.97:50000/user/ubuntu/RC_20\" + year + \"-\" + month + \".json\")\n",
    "            df_this_year = df_this_year.union(df_month)\n",
    "\n",
    "        # Count and sort the words. Save the result in word_count\n",
    "        word_count_this_year = df_this_year.groupBy(\"word\").count().orderBy(\"count\", ascending=False)\n",
    "        year_string = \"20\" + year\n",
    "        word_count.update({year_string: word_count_this_year})\n",
    "\n",
    "        # Sort df_this_year and update df_all_years\n",
    "        df_all_years = df_all_years.union(df_this_year)\n",
    "    return word_count, df_all_years"
   ]
  },
  {
   "cell_type": "code",
   "execution_count": null,
   "id": "2f51eb43",
   "metadata": {},
   "outputs": [],
   "source": [
    "# Get the dictionaries\n",
    "word_count, df_all_years = get_word_count_and_df_all_years()"
   ]
  },
  {
   "cell_type": "code",
   "execution_count": null,
   "id": "f9e29dd2",
   "metadata": {},
   "outputs": [],
   "source": [
    "# Find top 1000 most used words\n",
    "word_count_all_years = df_all_years.groupBy(\"word\").count().orderBy(\"count\", ascending=False)\n",
    "most_common_words = word_count_all_years.limit(1000)\n",
    "\n",
    "# Remove the most common words from the word count for each year\n",
    "word_count_unique = {}\n",
    "for year in years:\n",
    "    year_string = \"20\" + year\n",
    "    word_count_unique[year_string] = word_count[year_string].join(most_common_words, [\"word\"], \"leftanti\")\n",
    "    # word_count_unique[year_string] = word_count_unique[year_string].sort('count', ascending=False)"
   ]
  },
  {
   "cell_type": "code",
   "execution_count": null,
   "id": "d07d0acf",
   "metadata": {},
   "outputs": [],
   "source": [
    "most_common_words.show(10)\n",
    "word_count_unique[\"2006\"].show(10)\n",
    "word_count_unique[\"2007\"].show(10)\n",
    "word_count_unique[\"2008\"].show(10)\n",
    "word_count_unique[\"2009\"].show(10)\n",
    "word_count_unique[\"2010\"].show(10)"
   ]
  },
  {
   "cell_type": "code",
   "execution_count": null,
   "id": "2510494c",
   "metadata": {},
   "outputs": [],
   "source": [
    "spark.stop()"
   ]
  }
 ],
 "metadata": {
  "kernelspec": {
   "display_name": "Python 3 (ipykernel)",
   "language": "python",
   "name": "python3"
  },
  "language_info": {
   "codemirror_mode": {
    "name": "ipython",
    "version": 3
   },
   "file_extension": ".py",
   "mimetype": "text/x-python",
   "name": "python",
   "nbconvert_exporter": "python",
   "pygments_lexer": "ipython3",
   "version": "3.10.6"
  }
 },
 "nbformat": 4,
 "nbformat_minor": 5
}
