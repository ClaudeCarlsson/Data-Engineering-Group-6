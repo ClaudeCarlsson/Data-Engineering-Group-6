{
 "cells": [
  {
   "cell_type": "code",
   "execution_count": 1,
   "id": "5df6aac7",
   "metadata": {},
   "outputs": [],
   "source": [
    "from pyspark.sql import SparkSession"
   ]
  },
  {
   "cell_type": "code",
   "execution_count": 2,
   "id": "abc3c91a",
   "metadata": {},
   "outputs": [
    {
     "name": "stderr",
     "output_type": "stream",
     "text": [
      "WARNING: An illegal reflective access operation has occurred\n",
      "WARNING: Illegal reflective access by org.apache.spark.unsafe.Platform (file:/home/ubuntu/.local/lib/python3.10/site-packages/pyspark/jars/spark-unsafe_2.12-3.2.3.jar) to constructor java.nio.DirectByteBuffer(long,int)\n",
      "WARNING: Please consider reporting this to the maintainers of org.apache.spark.unsafe.Platform\n",
      "WARNING: Use --illegal-access=warn to enable warnings of further illegal reflective access operations\n",
      "WARNING: All illegal access operations will be denied in a future release"
     ]
    }
   ],
   "source": [
    "spark_session = SparkSession.builder\\\n",
    ".master(\"spark://192.168.2.122:7077\") \\\n",
    ".appName(\"claudecarlsson_PartA\")\\\n",
    ".config(\"spark.dynamicAllocation.enabled\", True)\\\n",
    ".config(\"spark.dynamicAllocation.shuffleTracking.enabled\",True)\\\n",
    ".config(\"spark.shuffle.service.enabled\", True)\\\n",
    ".config(\"spark.dynamicAllocation.executorIdleTimeout\",\"30s\")\\\n",
    ".config(\"spark.cores.max\", 32)\\\n",
    ".getOrCreate()"
   ]
  },
  {
   "cell_type": "code",
   "execution_count": 3,
   "id": "b04a1232",
   "metadata": {},
   "outputs": [],
   "source": [
    "spark_context = spark_session.sparkContext\n",
    "spark_context.setLogLevel(\"ERROR\")"
   ]
  },
  {
   "cell_type": "markdown",
   "id": "d676c7f3",
   "metadata": {},
   "source": [
    "## Question A.1"
   ]
  },
  {
   "cell_type": "code",
   "execution_count": 4,
   "id": "f81c265e",
   "metadata": {},
   "outputs": [
    {
     "name": "stdout",
     "output_type": "stream",
     "text": [
      "Number of lines in file:  1862234\n"
     ]
    },
    {
     "data": {
      "text/plain": [
       "['Resumption of the session',\n",
       " 'I declare resumed the session of the European Parliament adjourned on Friday 17 December 1999, and I would like once again to wish you a happy new year in the hope that you enjoyed a pleasant festive period.',\n",
       " \"Although, as you will have seen, the dreaded 'millennium bug' failed to materialise, still the people in a number of countries suffered a series of natural disasters that truly were dreadful.\",\n",
       " 'You have requested a debate on this subject in the course of the next few days, during this part-session.',\n",
       " \"In the meantime, I should like to observe a minute' s silence, as a number of Members have requested, on behalf of all the victims concerned, particularly those of the terrible storms, in the various countries of the European Union.\",\n",
       " \"Please rise, then, for this minute' s silence.\",\n",
       " \"(The House rose and observed a minute' s silence)\",\n",
       " 'Madam President, on a point of order.',\n",
       " 'You will be aware from the press and television that there have been a number of bomb explosions and killings in Sri Lanka.',\n",
       " 'One of the people assassinated very recently in Sri Lanka was Mr Kumar Ponnambalam, who had visited the European Parliament just a few months ago.']"
      ]
     },
     "execution_count": 4,
     "metadata": {},
     "output_type": "execute_result"
    }
   ],
   "source": [
    "# Load text file into a RDD\n",
    "rdd_en = spark_context.textFile(\"hdfs://host-192-168-2-122:9000/europarl/europarl-v7.sv-en.en\")\n",
    "\n",
    "# Get number of lines in the file\n",
    "num_lines = rdd_en.count()\n",
    "\n",
    "# Print the number of lines\n",
    "print(\"Number of lines in file: \", num_lines)\n",
    "\n",
    "# Show the first 10 rows of the RDD\n",
    "rdd_en.take(10)"
   ]
  },
  {
   "cell_type": "code",
   "execution_count": 5,
   "id": "bbba8d04",
   "metadata": {
    "scrolled": true
   },
   "outputs": [
    {
     "name": "stdout",
     "output_type": "stream",
     "text": [
      "Number of lines in file:  1862234\n"
     ]
    },
    {
     "data": {
      "text/plain": [
       "['Återupptagande av sessionen',\n",
       " 'Jag förklarar Europaparlamentets session återupptagen efter avbrottet den 17 december. Jag vill på nytt önska er ett gott nytt år och jag hoppas att ni haft en trevlig semester.',\n",
       " 'Som ni kunnat konstatera ägde \"den stora år 2000-buggen\" aldrig rum. Däremot har invånarna i ett antal av våra medlemsländer drabbats av naturkatastrofer som verkligen varit förskräckliga.',\n",
       " 'Ni har begärt en debatt i ämnet under sammanträdesperiodens kommande dagar.',\n",
       " 'Till dess vill jag att vi, som ett antal kolleger begärt, håller en tyst minut för offren för bl.a. stormarna i de länder i Europeiska unionen som drabbats.',\n",
       " 'Jag ber er resa er för en tyst minut.',\n",
       " '(Parlamentet höll en tyst minut.)',\n",
       " 'Fru talman! Det gäller en ordningsfråga.',\n",
       " 'Ni känner till från media att det skett en rad bombexplosioner och mord i Sri Lanka.',\n",
       " 'En av de personer som mycket nyligen mördades i Sri Lanka var Kumar Ponnambalam, som besökte Europaparlamentet för bara några månader sedan.']"
      ]
     },
     "execution_count": 5,
     "metadata": {},
     "output_type": "execute_result"
    }
   ],
   "source": [
    "# Load text file into a RDD\n",
    "rdd_sv = spark_context.textFile(\"hdfs://host-192-168-2-122:9000/europarl/europarl-v7.sv-en.sv\")\n",
    "\n",
    "# Get number of lines in the file\n",
    "num_lines = rdd_sv.count()\n",
    "\n",
    "# Print the number of lines\n",
    "print(\"Number of lines in file: \", num_lines)\n",
    "\n",
    "# Show the first 10 rows of the RDD\n",
    "rdd_sv.take(10)"
   ]
  },
  {
   "cell_type": "code",
   "execution_count": 24,
   "id": "fb6ab878",
   "metadata": {},
   "outputs": [],
   "source": [
    "# Number of lines match, ok!"
   ]
  },
  {
   "cell_type": "code",
   "execution_count": 6,
   "id": "8195c5e9",
   "metadata": {},
   "outputs": [
    {
     "name": "stdout",
     "output_type": "stream",
     "text": [
      "Number of partitions in df_sv: 3, df_en: 2\n"
     ]
    }
   ],
   "source": [
    "# Get number of partitions in the RDD\n",
    "num_partitions_sv = rdd_sv.getNumPartitions()\n",
    "num_partitions_en = rdd_en.getNumPartitions()\n",
    "\n",
    "# Print the number of partitions\n",
    "print(\"Number of partitions in df_sv: %d, df_en: %d\" % (num_partitions_sv, num_partitions_en))"
   ]
  },
  {
   "cell_type": "markdown",
   "id": "ebeed372",
   "metadata": {},
   "source": [
    "## Question A.2"
   ]
  },
  {
   "cell_type": "code",
   "execution_count": 7,
   "id": "8fb107a0",
   "metadata": {},
   "outputs": [],
   "source": [
    "def display_stats(rdd):\n",
    "    # Get number of lines in the file\n",
    "    num_lines = rdd.count()\n",
    "\n",
    "    # Print the number of lines\n",
    "    print(\"Number of lines in file: \", num_lines)\n",
    "\n",
    "    # Show the first 10 rows of the rdd\n",
    "    print(rdd.take(10))"
   ]
  },
  {
   "cell_type": "code",
   "execution_count": 8,
   "id": "3babefcf",
   "metadata": {},
   "outputs": [
    {
     "name": "stdout",
     "output_type": "stream",
     "text": [
      "Number of lines in file:  1862234\n",
      "[['resumption', 'of', 'the', 'session'], ['i', 'declare', 'resumed', 'the', 'session', 'of', 'the', 'european', 'parliament', 'adjourned', 'on', 'friday', '17', 'december', '1999,', 'and', 'i', 'would', 'like', 'once', 'again', 'to', 'wish', 'you', 'a', 'happy', 'new', 'year', 'in', 'the', 'hope', 'that', 'you', 'enjoyed', 'a', 'pleasant', 'festive', 'period.'], ['although,', 'as', 'you', 'will', 'have', 'seen,', 'the', 'dreaded', \"'millennium\", \"bug'\", 'failed', 'to', 'materialise,', 'still', 'the', 'people', 'in', 'a', 'number', 'of', 'countries', 'suffered', 'a', 'series', 'of', 'natural', 'disasters', 'that', 'truly', 'were', 'dreadful.'], ['you', 'have', 'requested', 'a', 'debate', 'on', 'this', 'subject', 'in', 'the', 'course', 'of', 'the', 'next', 'few', 'days,', 'during', 'this', 'part-session.'], ['in', 'the', 'meantime,', 'i', 'should', 'like', 'to', 'observe', 'a', \"minute'\", 's', 'silence,', 'as', 'a', 'number', 'of', 'members', 'have', 'requested,', 'on', 'behalf', 'of', 'all', 'the', 'victims', 'concerned,', 'particularly', 'those', 'of', 'the', 'terrible', 'storms,', 'in', 'the', 'various', 'countries', 'of', 'the', 'european', 'union.'], ['please', 'rise,', 'then,', 'for', 'this', \"minute'\", 's', 'silence.'], ['(the', 'house', 'rose', 'and', 'observed', 'a', \"minute'\", 's', 'silence)'], ['madam', 'president,', 'on', 'a', 'point', 'of', 'order.'], ['you', 'will', 'be', 'aware', 'from', 'the', 'press', 'and', 'television', 'that', 'there', 'have', 'been', 'a', 'number', 'of', 'bomb', 'explosions', 'and', 'killings', 'in', 'sri', 'lanka.'], ['one', 'of', 'the', 'people', 'assassinated', 'very', 'recently', 'in', 'sri', 'lanka', 'was', 'mr', 'kumar', 'ponnambalam,', 'who', 'had', 'visited', 'the', 'european', 'parliament', 'just', 'a', 'few', 'months', 'ago.']]\n"
     ]
    }
   ],
   "source": [
    "# Tokenize each row\n",
    "rdd_en_lower_tokenize = rdd_en.map(lambda x: x.strip().lower().split())\n",
    "display_stats(rdd_en_lower_tokenize)"
   ]
  },
  {
   "cell_type": "code",
   "execution_count": 9,
   "id": "e23a7981",
   "metadata": {},
   "outputs": [
    {
     "name": "stdout",
     "output_type": "stream",
     "text": [
      "Number of lines in file:  1862234\n",
      "[['återupptagande', 'av', 'sessionen'], ['jag', 'förklarar', 'europaparlamentets', 'session', 'återupptagen', 'efter', 'avbrottet', 'den', '17', 'december.', 'jag', 'vill', 'på', 'nytt', 'önska', 'er', 'ett', 'gott', 'nytt', 'år', 'och', 'jag', 'hoppas', 'att', 'ni', 'haft', 'en', 'trevlig', 'semester.'], ['som', 'ni', 'kunnat', 'konstatera', 'ägde', '\"den', 'stora', 'år', '2000-buggen\"', 'aldrig', 'rum.', 'däremot', 'har', 'invånarna', 'i', 'ett', 'antal', 'av', 'våra', 'medlemsländer', 'drabbats', 'av', 'naturkatastrofer', 'som', 'verkligen', 'varit', 'förskräckliga.'], ['ni', 'har', 'begärt', 'en', 'debatt', 'i', 'ämnet', 'under', 'sammanträdesperiodens', 'kommande', 'dagar.'], ['till', 'dess', 'vill', 'jag', 'att', 'vi,', 'som', 'ett', 'antal', 'kolleger', 'begärt,', 'håller', 'en', 'tyst', 'minut', 'för', 'offren', 'för', 'bl.a.', 'stormarna', 'i', 'de', 'länder', 'i', 'europeiska', 'unionen', 'som', 'drabbats.'], ['jag', 'ber', 'er', 'resa', 'er', 'för', 'en', 'tyst', 'minut.'], ['(parlamentet', 'höll', 'en', 'tyst', 'minut.)'], ['fru', 'talman!', 'det', 'gäller', 'en', 'ordningsfråga.'], ['ni', 'känner', 'till', 'från', 'media', 'att', 'det', 'skett', 'en', 'rad', 'bombexplosioner', 'och', 'mord', 'i', 'sri', 'lanka.'], ['en', 'av', 'de', 'personer', 'som', 'mycket', 'nyligen', 'mördades', 'i', 'sri', 'lanka', 'var', 'kumar', 'ponnambalam,', 'som', 'besökte', 'europaparlamentet', 'för', 'bara', 'några', 'månader', 'sedan.']]\n"
     ]
    }
   ],
   "source": [
    "# Tokenize each row\n",
    "rdd_sv_lower_tokenize = rdd_sv.map(lambda x: x.strip().lower().split())\n",
    "display_stats(rdd_sv_lower_tokenize)"
   ]
  },
  {
   "cell_type": "code",
   "execution_count": 25,
   "id": "087cdaf5",
   "metadata": {},
   "outputs": [],
   "source": [
    "# Number of lines match, ok!"
   ]
  },
  {
   "cell_type": "markdown",
   "id": "83dfdc3b",
   "metadata": {},
   "source": [
    "## Question A.3"
   ]
  },
  {
   "cell_type": "code",
   "execution_count": 10,
   "id": "def8e3d6",
   "metadata": {},
   "outputs": [],
   "source": [
    "def rdd_word_frequency(rdd, n_print):\n",
    "    rdd = rdd.flatMap(lambda x: x)\n",
    "    rdd = rdd.map(lambda x: (x, 1))\n",
    "    rdd = rdd.reduceByKey(lambda x, y: x + y)\n",
    "    rdd = rdd.takeOrdered(n_print, key=lambda x: -x[1])\n",
    "    return rdd"
   ]
  },
  {
   "cell_type": "code",
   "execution_count": 11,
   "id": "ed46a5f3",
   "metadata": {},
   "outputs": [
    {
     "name": "stdout",
     "output_type": "stream",
     "text": [
      "('the', 3498574)\n",
      "('of', 1659884)\n",
      "('to', 1539823)\n",
      "('and', 1288620)\n",
      "('in', 1086089)\n",
      "('that', 797576)\n",
      "('a', 773812)\n",
      "('is', 758087)\n",
      "('for', 534270)\n",
      "('we', 522879)\n",
      "----------\n",
      "('att', 1706309)\n",
      "('och', 1344895)\n",
      "('i', 1050989)\n",
      "('det', 924878)\n",
      "('som', 913302)\n",
      "('för', 908703)\n",
      "('av', 738102)\n",
      "('är', 694389)\n",
      "('en', 620347)\n",
      "('vi', 539808)\n"
     ]
    }
   ],
   "source": [
    "# Print frequency\n",
    "for pair in rdd_word_frequency(rdd_en_lower_tokenize, 10):\n",
    "    print(pair)\n",
    "print(\"----------\")\n",
    "for pair in rdd_word_frequency(rdd_sv_lower_tokenize, 10):\n",
    "    print(pair)"
   ]
  },
  {
   "cell_type": "code",
   "execution_count": 23,
   "id": "1dc580dc",
   "metadata": {},
   "outputs": [],
   "source": [
    "# The results seems to be reasonable! \n",
    "# There is a difference in how words are used in swedish/english that makes up the difference. "
   ]
  },
  {
   "cell_type": "markdown",
   "id": "4d77152d",
   "metadata": {},
   "source": [
    "## Question A.4"
   ]
  },
  {
   "cell_type": "code",
   "execution_count": 13,
   "id": "3213cc36",
   "metadata": {
    "scrolled": true
   },
   "outputs": [],
   "source": [
    "# Step 1: Key the lines by their line number\n",
    "rdd_sv_indexed = rdd_sv_lower_tokenize.zipWithIndex()\n",
    "rdd_en_indexed = rdd_en_lower_tokenize.zipWithIndex()"
   ]
  },
  {
   "cell_type": "code",
   "execution_count": 14,
   "id": "61fb24e7",
   "metadata": {},
   "outputs": [],
   "source": [
    "# Step 2: Swap the key and value\n",
    "rdd_sv_indexed_kv = rdd_sv_indexed.map(lambda x: (x[1], x[0]))\n",
    "rdd_en_indexed_kv = rdd_en_indexed.map(lambda x: (x[1], x[0]))"
   ]
  },
  {
   "cell_type": "code",
   "execution_count": 15,
   "id": "f60e19ec",
   "metadata": {},
   "outputs": [],
   "source": [
    "# Step 3: Join the two RDDs together\n",
    "rdd_joined = rdd_sv_indexed_kv.join(rdd_en_indexed_kv)"
   ]
  },
  {
   "cell_type": "code",
   "execution_count": 16,
   "id": "1ea3a068",
   "metadata": {},
   "outputs": [],
   "source": [
    "# Step 4: Filter to exclude line pairs that have an empty/missing corresponding sentence\n",
    "rdd_filtered_empty = rdd_joined.filter(lambda x: x[1][0] and x[1][1])"
   ]
  },
  {
   "cell_type": "code",
   "execution_count": 17,
   "id": "c3c524f9",
   "metadata": {},
   "outputs": [],
   "source": [
    "# Step 5: Filter to leave only pairs of sentences with a small number of words per sentence\n",
    "rdd_filtered_small = rdd_filtered_empty.filter(lambda x: len(x[1][0]) < 10 and len(x[1][1]) < 10)"
   ]
  },
  {
   "cell_type": "code",
   "execution_count": 18,
   "id": "33f2e118",
   "metadata": {},
   "outputs": [],
   "source": [
    "# Step 6: Filter to leave only pairs of sentences with the same number of words in each sentence\n",
    "rdd_filtered_same = rdd_filtered_small.filter(lambda x: len(x[1][0]) == len(x[1][1]))"
   ]
  },
  {
   "cell_type": "code",
   "execution_count": 19,
   "id": "a88baef4",
   "metadata": {},
   "outputs": [],
   "source": [
    "# Step 7: For each sentence pair, map so that you pair each (in order) word in the two sentences\n",
    "rdd_paired = rdd_filtered_same.map(lambda x: (list(zip(x[1][0], x[1][1]))))"
   ]
  },
  {
   "cell_type": "code",
   "execution_count": 20,
   "id": "08929145",
   "metadata": {},
   "outputs": [],
   "source": [
    "# Step 8: Use reduce to count the number of occurrences of the word-translation-pairs\n",
    "rdd_word_count = rdd_paired.flatMap(lambda x: x).map(lambda x: (x, 1)).reduceByKey(lambda x, y: x + y)"
   ]
  },
  {
   "cell_type": "code",
   "execution_count": 21,
   "id": "d6a4540e",
   "metadata": {},
   "outputs": [
    {
     "name": "stdout",
     "output_type": "stream",
     "text": [
      "('är', 'is') 10070\n",
      "('vi', 'we') 5539\n",
      "('jag', 'i') 5040\n",
      "('detta', 'this') 3257\n",
      "('avslutad.', 'closed.') 2980\n",
      "('och', 'and') 2926\n",
      "('en', 'a') 2892\n",
      "('det', 'it') 2868\n",
      "('det', 'that') 2807\n",
      "('inte', 'not') 2652\n"
     ]
    }
   ],
   "source": [
    "# Step 9: Print some of the most frequently occurring pairs of words\n",
    "rdd_most_frequent = rdd_word_count.takeOrdered(10, key=lambda x: -x[1])\n",
    "for word_pair, count in rdd_most_frequent:\n",
    "    print(word_pair, count)"
   ]
  },
  {
   "cell_type": "code",
   "execution_count": 26,
   "id": "62067d4d",
   "metadata": {},
   "outputs": [],
   "source": [
    "# The translations seems to be pretty much on point."
   ]
  },
  {
   "cell_type": "markdown",
   "id": "a5a4b669",
   "metadata": {},
   "source": [
    "## Stop session, end of part A"
   ]
  },
  {
   "cell_type": "code",
   "execution_count": 22,
   "id": "94aef8b5",
   "metadata": {},
   "outputs": [],
   "source": [
    "spark_session.stop()"
   ]
  }
 ],
 "metadata": {
  "kernelspec": {
   "display_name": "Python 3 (ipykernel)",
   "language": "python",
   "name": "python3"
  },
  "language_info": {
   "codemirror_mode": {
    "name": "ipython",
    "version": 3
   },
   "file_extension": ".py",
   "mimetype": "text/x-python",
   "name": "python",
   "nbconvert_exporter": "python",
   "pygments_lexer": "ipython3",
   "version": "3.10.6"
  }
 },
 "nbformat": 4,
 "nbformat_minor": 5
}
