{
 "cells": [
  {
   "cell_type": "code",
   "execution_count": null,
   "id": "654ab068",
   "metadata": {},
   "outputs": [],
   "source": [
    "import time\n",
    "\n",
    "# Import necessary packages for spark, and processing the data with spark\n",
    "\n",
    "from pyspark.sql import SparkSession\n",
    "from pyspark.sql.functions import trim, regexp_replace, lower, explode, trim, split\n",
    "from pyspark.sql.types import StructType, StructField, StringType"
   ]
  },
  {
   "cell_type": "code",
   "execution_count": null,
   "id": "dac1a2c9",
   "metadata": {},
   "outputs": [],
   "source": [
    "# Create a spark session\n",
    "\n",
    "spark = SparkSession.builder\\\n",
    "    .master(\"spark://192.168.2.97:7077\") \\\n",
    "    .appName(\"Question-1-Final\")\\\n",
    "    .config(\"spark.dynamicAllocation.enabled\", True)\\\n",
    "    .config(\"spark.dynamicAllocation.shuffleTracking.enabled\",True)\\\n",
    "    .config(\"spark.shuffle.service.enabled\", True)\\\n",
    "    .config(\"spark.dynamicAllocation.executorIdleTimeout\",\"30s\")\\\n",
    "    .config(\"spark.executor.memory\", \"2048m\")\\\n",
    "    .config(\"spark.cores.max\", 8)\\\n",
    "    .getOrCreate()"
   ]
  },
  {
   "cell_type": "code",
   "execution_count": null,
   "id": "a85aadbd",
   "metadata": {},
   "outputs": [],
   "source": [
    "start_time = time.time()"
   ]
  },
  {
   "cell_type": "code",
   "execution_count": null,
   "id": "70354681",
   "metadata": {},
   "outputs": [],
   "source": [
    "# Function for parsing the body of the json\n",
    "\n",
    "def parse_json_body(file):\n",
    "    \n",
    "    # Read the json file\n",
    "    df = spark.read.json(file)\n",
    "\n",
    "    # Lowercase the file\n",
    "    df_lowercase_body = df.select(lower(\"body\").alias(\"lowercase_body\"))\n",
    "\n",
    "    # String of characters to delete in the body\n",
    "    charachters_to_delete = \"[\\.,\\[\\]\\(\\):_\\-!?\\'\\+=;/&{}@$#*\\\"\\\\\\\\%><|~¨´¤]\"\n",
    "\n",
    "    # Remove characters from body\n",
    "    df_clean = df_lowercase_body.withColumn(\"lowercase_body\", regexp_replace(df_lowercase_body.lowercase_body, charachters_to_delete, \"\"))\n",
    "\n",
    "    # Split body into words and make a row for each word\n",
    "    df_words = df_clean.select(explode(split(\"lowercase_body\", \"\\s+\")).alias(\"word\"))\n",
    "\n",
    "    return df_words"
   ]
  },
  {
   "cell_type": "code",
   "execution_count": null,
   "id": "9288c4e2",
   "metadata": {},
   "outputs": [],
   "source": [
    "# The function that reterives the data from the HDFS and preprocess it\n",
    "\n",
    "def get_word_count_and_df_all_years(years):\n",
    "    # Create dictionary, schema, and a dataframe with that schema\n",
    "    word_count = {}\n",
    "    schema = StructType([StructField(\"word\", StringType(), True),])\n",
    "    df_all_years = spark.createDataFrame([], schema)\n",
    "\n",
    "    # Loop over the years\n",
    "    for year in years:\n",
    "        df_current_year = spark.createDataFrame([], schema)\n",
    "\n",
    "        # Append all the months to the dataframe\n",
    "        for month in [\"01\", \"02\", \"03\", \"04\", \"05\", \"06\", \"07\", \"08\", \"09\", \"10\", \"11\", \"12\"]:\n",
    "            df_current_month = parse_json_body(\"hdfs://192.168.2.97:50000/user/ubuntu/RC_20\" + year + \"-\" + month + \".json\")\n",
    "            df_current_year = df_current_year.union(df_current_month)\n",
    "\n",
    "        # Count and sort the words, save the result in word_count\n",
    "        word_count_current_year = df_current_year.groupBy(\"word\").count().orderBy(\"count\", ascending=False)\n",
    "        word_count.update({\"20\" + year: word_count_current_year})\n",
    "\n",
    "        # Sort df_current_year and update df_all_years\n",
    "        df_all_years = df_all_years.union(df_current_year)\n",
    "    return word_count, df_all_years"
   ]
  },
  {
   "cell_type": "code",
   "execution_count": null,
   "id": "da2df055",
   "metadata": {
    "scrolled": true
   },
   "outputs": [],
   "source": [
    "# The years we are going to use\n",
    "#years = [\"06\", \"07\", \"08\", \"09\", \"10\"]\n",
    "years = [\"07\"] # For time test\n",
    "\n",
    "# Get the word_count dictionary and the datframe\n",
    "word_count, df_all_years = get_word_count_and_df_all_years(years)"
   ]
  },
  {
   "cell_type": "code",
   "execution_count": null,
   "id": "7ebc3e4f",
   "metadata": {
    "scrolled": false
   },
   "outputs": [],
   "source": [
    "# Find top 500 most used words\n",
    "word_count_all_years = df_all_years.groupBy(\"word\").count().orderBy(\"count\", ascending=False)\n",
    "most_common_words = word_count_all_years.limit(500)\n",
    "\n",
    "# Remove the most common words from the word count for each year\n",
    "word_count_unique = {}\n",
    "for year in years:\n",
    "    word_count_unique[\"20\" + year] = word_count[\"20\" + year].join(most_common_words, [\"word\"], \"leftanti\")\n",
    "\n",
    "# Print the most common words for all the years\n",
    "print(\"The 10 most common words for all years\")\n",
    "most_common_words.show(10)\n",
    "\n",
    "# Print unique words for each year\n",
    "for year in years:\n",
    "    print(\"The 10 most semi-unique words for year: 20\" + year)\n",
    "    word_count_unique[\"20\" + year].show(10)"
   ]
  },
  {
   "cell_type": "code",
   "execution_count": null,
   "id": "34bfa2c7",
   "metadata": {},
   "outputs": [],
   "source": [
    "end_time = time.time()\n",
    "print(f\"Elapsed time: {end_time - start_time} seconds\")"
   ]
  },
  {
   "cell_type": "code",
   "execution_count": null,
   "id": "96ee82f2",
   "metadata": {},
   "outputs": [],
   "source": [
    "spark.stop()"
   ]
  }
 ],
 "metadata": {
  "kernelspec": {
   "display_name": "Python 3 (ipykernel)",
   "language": "python",
   "name": "python3"
  },
  "language_info": {
   "codemirror_mode": {
    "name": "ipython",
    "version": 3
   },
   "file_extension": ".py",
   "mimetype": "text/x-python",
   "name": "python",
   "nbconvert_exporter": "python",
   "pygments_lexer": "ipython3",
   "version": "3.10.6"
  }
 },
 "nbformat": 4,
 "nbformat_minor": 5
}
