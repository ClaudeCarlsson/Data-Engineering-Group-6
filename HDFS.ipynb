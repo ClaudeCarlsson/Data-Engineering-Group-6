{
 "cells": [
  {
   "cell_type": "code",
   "execution_count": 1,
   "id": "5df6aac7",
   "metadata": {},
   "outputs": [],
   "source": [
    "from pyspark.sql import SparkSession\n",
    "from pyspark.sql.functions import trim, regexp_replace, lower, explode, trim, split\n",
    "from pyspark.sql.types import StructType, StructField, StringType"
   ]
  },
  {
   "cell_type": "code",
   "execution_count": 2,
   "id": "abc3c91a",
   "metadata": {},
   "outputs": [
    {
     "name": "stderr",
     "output_type": "stream",
     "text": [
      "WARNING: An illegal reflective access operation has occurred\n",
      "WARNING: Illegal reflective access by org.apache.spark.unsafe.Platform (file:/opt/spark/jars/spark-unsafe_2.12-3.2.3.jar) to constructor java.nio.DirectByteBuffer(long,int)\n",
      "WARNING: Please consider reporting this to the maintainers of org.apache.spark.unsafe.Platform\n",
      "WARNING: Use --illegal-access=warn to enable warnings of further illegal reflective access operations\n",
      "WARNING: All illegal access operations will be denied in a future release\n",
      "Using Spark's default log4j profile: org/apache/spark/log4j-defaults.properties\n",
      "Setting default log level to \"WARN\".\n",
      "To adjust logging level use sc.setLogLevel(newLevel). For SparkR, use setLogLevel(newLevel).\n",
      "23/03/12 15:34:38 WARN NativeCodeLoader: Unable to load native-hadoop library for your platform... using builtin-java classes where applicable\n",
      "23/03/12 15:34:40 WARN Utils: Service 'SparkUI' could not bind on port 4040. Attempting port 4041.\n",
      "23/03/12 15:34:40 WARN Utils: Service 'SparkUI' could not bind on port 4041. Attempting port 4042.\n",
      "23/03/12 15:34:40 WARN Utils: Service 'SparkUI' could not bind on port 4042. Attempting port 4043.\n",
      "23/03/12 15:34:40 WARN Utils: Service 'SparkUI' could not bind on port 4043. Attempting port 4044.\n"
     ]
    }
   ],
   "source": [
    "spark_session = SparkSession.builder\\\n",
    ".master(\"spark://192.168.2.97:7077\") \\\n",
    ".appName(\"claude_carlsson_hdfs\")\\\n",
    ".config(\"spark.dynamicAllocation.enabled\", True)\\\n",
    ".config(\"spark.dynamicAllocation.shuffleTracking.enabled\",True)\\\n",
    ".config(\"spark.shuffle.service.enabled\", True)\\\n",
    ".config(\"spark.dynamicAllocation.executorIdleTimeout\",\"30s\")\\\n",
    ".config(\"spark.cores.max\", 5)\\\n",
    ".getOrCreate()"
   ]
  },
  {
   "cell_type": "code",
   "execution_count": 3,
   "id": "b04a1232",
   "metadata": {},
   "outputs": [],
   "source": [
    "def parse_json_body_to_string(json_filename):\n",
    "    df = spark_session.read.json(json_filename)\n",
    "\n",
    "    my_df_lower = df.select(lower(\"body\").alias(\"lowercase_body\"))\n",
    "\n",
    "    charachters_to_delete = \"[\\.,\\[\\]\\(\\):_\\-!?\\'\\+=;/&{}@$#*\\\"\\\\\\\\%><|~¨´¤]\"\n",
    "\n",
    "    my_df_clean = my_df_lower.withColumn(\"lowercase_body\", regexp_replace(my_df_lower.lowercase_body, charachters_to_delete, \"\"))\n",
    "\n",
    "    my_df_words = my_df_clean.select(explode(split(\"lowercase_body\", \"\\s+\")).alias(\"word\"))\n",
    "\n",
    "    return my_df_words"
   ]
  },
  {
   "cell_type": "code",
   "execution_count": 4,
   "id": "f83d8919",
   "metadata": {},
   "outputs": [
    {
     "name": "stderr",
     "output_type": "stream",
     "text": [
      "                                                                                \r"
     ]
    }
   ],
   "source": [
    "df_all_years = parse_json_body_to_string(\"hdfs://192.168.2.97:50000/user/ubuntu/RC_2008-01.json\")"
   ]
  },
  {
   "cell_type": "code",
   "execution_count": 5,
   "id": "9b692509",
   "metadata": {},
   "outputs": [
    {
     "name": "stderr",
     "output_type": "stream",
     "text": [
      "\r",
      "[Stage 1:>                                                          (0 + 1) / 1]\r"
     ]
    },
    {
     "name": "stdout",
     "output_type": "stream",
     "text": [
      "+-------------+\n",
      "|         word|\n",
      "+-------------+\n",
      "|          wow|\n",
      "|        youre|\n",
      "|            a|\n",
      "|     buzzkill|\n",
      "|         time|\n",
      "|           to|\n",
      "|         hang|\n",
      "|          out|\n",
      "|         with|\n",
      "|            a|\n",
      "|    different|\n",
      "|        crowd|\n",
      "|        there|\n",
      "|    1smartass|\n",
      "|             |\n",
      "|          you|\n",
      "|          can|\n",
      "|        march|\n",
      "|          for|\n",
      "|           me|\n",
      "|           im|\n",
      "|        going|\n",
      "|           to|\n",
      "|            a|\n",
      "|        party|\n",
      "|          and|\n",
      "|       having|\n",
      "|         some|\n",
      "|          fun|\n",
      "|      deleted|\n",
      "|      deleted|\n",
      "|      deleted|\n",
      "|         damn|\n",
      "|           im|\n",
      "|       really|\n",
      "|        sorry|\n",
      "|        about|\n",
      "|         that|\n",
      "|    sometimes|\n",
      "|        there|\n",
      "|         just|\n",
      "|         isnt|\n",
      "|       really|\n",
      "|     anything|\n",
      "|          one|\n",
      "|          can|\n",
      "|          say|\n",
      "|           to|\n",
      "|         make|\n",
      "|       things|\n",
      "|          any|\n",
      "|       better|\n",
      "|          but|\n",
      "|           my|\n",
      "|     thoughts|\n",
      "|          are|\n",
      "|         with|\n",
      "|          you|\n",
      "|         wait|\n",
      "|         what|\n",
      "|        youre|\n",
      "|      telling|\n",
      "|           me|\n",
      "|         that|\n",
      "|          the|\n",
      "|      defense|\n",
      "|           is|\n",
      "|         that|\n",
      "|            a|\n",
      "|      command|\n",
      "|       window|\n",
      "|           is|\n",
      "|  essentially|\n",
      "|            a|\n",
      "|          dos|\n",
      "|compatibility|\n",
      "|        layer|\n",
      "|          and|\n",
      "|         that|\n",
      "|         this|\n",
      "|           is|\n",
      "|           so|\n",
      "|       damned|\n",
      "|        hairy|\n",
      "|         that|\n",
      "|         they|\n",
      "|          had|\n",
      "|           to|\n",
      "|        write|\n",
      "|            a|\n",
      "|     separate|\n",
      "|           os|\n",
      "|    subsystem|\n",
      "|           to|\n",
      "|       handle|\n",
      "|           it|\n",
      "|          and|\n",
      "|        thats|\n",
      "|         okay|\n",
      "|           im|\n",
      "+-------------+\n",
      "only showing top 100 rows\n",
      "\n"
     ]
    },
    {
     "name": "stderr",
     "output_type": "stream",
     "text": [
      "\r",
      "                                                                                \r"
     ]
    }
   ],
   "source": [
    "df_all_years.show(100)"
   ]
  },
  {
   "cell_type": "code",
   "execution_count": 6,
   "id": "94aef8b5",
   "metadata": {},
   "outputs": [],
   "source": [
    "spark_session.stop()"
   ]
  },
  {
   "cell_type": "code",
   "execution_count": null,
   "id": "edcd7db3",
   "metadata": {},
   "outputs": [],
   "source": []
  }
 ],
 "metadata": {
  "kernelspec": {
   "display_name": "Python 3 (ipykernel)",
   "language": "python",
   "name": "python3"
  },
  "language_info": {
   "codemirror_mode": {
    "name": "ipython",
    "version": 3
   },
   "file_extension": ".py",
   "mimetype": "text/x-python",
   "name": "python",
   "nbconvert_exporter": "python",
   "pygments_lexer": "ipython3",
   "version": "3.10.6"
  }
 },
 "nbformat": 4,
 "nbformat_minor": 5
}
