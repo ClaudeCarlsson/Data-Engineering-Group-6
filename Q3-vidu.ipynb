{
 "cells": [
  {
   "cell_type": "code",
   "execution_count": 1,
   "id": "1cbb8664",
   "metadata": {},
   "outputs": [
    {
     "name": "stderr",
     "output_type": "stream",
     "text": [
      "WARNING: An illegal reflective access operation has occurred\n",
      "WARNING: Illegal reflective access by org.apache.spark.unsafe.Platform (file:/opt/spark/jars/spark-unsafe_2.12-3.2.3.jar) to constructor java.nio.DirectByteBuffer(long,int)\n",
      "WARNING: Please consider reporting this to the maintainers of org.apache.spark.unsafe.Platform\n",
      "WARNING: Use --illegal-access=warn to enable warnings of further illegal reflective access operations\n",
      "WARNING: All illegal access operations will be denied in a future release\n",
      "Using Spark's default log4j profile: org/apache/spark/log4j-defaults.properties\n",
      "Setting default log level to \"WARN\".\n",
      "To adjust logging level use sc.setLogLevel(newLevel). For SparkR, use setLogLevel(newLevel).\n",
      "23/03/13 10:10:05 WARN NativeCodeLoader: Unable to load native-hadoop library for your platform... using builtin-java classes where applicable\n"
     ]
    }
   ],
   "source": [
    "from pyspark.sql import SparkSession\n",
    "\n",
    "spark_session = SparkSession.builder\\\n",
    "        .master(\"spark://192.168.2.97:7077\") \\\n",
    "        .appName(\"Q3\")\\\n",
    "        .config(\"spark.dynamicAllocation.enabled\", True)\\\n",
    "        .config(\"spark.dynamicAllocation.shuffleTracking.enabled\",True)\\\n",
    "        .config(\"spark.cores.max\", 2)\\\n",
    "        .getOrCreate()\n",
    "\n",
    "spark_context = spark_session.sparkContext\n",
    "        #.config(\"spark.jars.packages\", \"uk.co.gresearch.spark:spark-extension_2.12:2.4.0-3.3\")\\\n",
    "spark_context.setLogLevel(\"ERROR\")"
   ]
  },
  {
   "cell_type": "code",
   "execution_count": 2,
   "id": "129e5aa0",
   "metadata": {},
   "outputs": [
    {
     "name": "stderr",
     "output_type": "stream",
     "text": [
      "                                                                                \r"
     ]
    }
   ],
   "source": [
    "redComm1 = spark_session.read.json(\"hdfs://192.168.2.97:50000/user/ubuntu/RC_2008-03.json\")\n",
    "redComm2 = spark_session.read.json(\"hdfs://192.168.2.97:50000/user/ubuntu/RC_2008-04.json\")"
   ]
  },
  {
   "cell_type": "code",
   "execution_count": 9,
   "id": "004604a5",
   "metadata": {},
   "outputs": [],
   "source": [
    "subCount = redComm1.select('subreddit')\\\n",
    "    .groupBy(\"subreddit\")\\\n",
    "    .count()\\\n",
    "    .orderBy(\"count\", ascending=False)"
   ]
  },
  {
   "cell_type": "code",
   "execution_count": 10,
   "id": "df356a36",
   "metadata": {},
   "outputs": [
    {
     "name": "stderr",
     "output_type": "stream",
     "text": [
      "[Stage 4:>                                                          (0 + 1) / 1]\r"
     ]
    },
    {
     "name": "stdout",
     "output_type": "stream",
     "text": [
      "+-------------+------+\n",
      "|    subreddit| count|\n",
      "+-------------+------+\n",
      "|   reddit.com|207092|\n",
      "|     politics| 83375|\n",
      "|  programming| 34642|\n",
      "|         pics| 25352|\n",
      "|      science| 22874|\n",
      "|     business| 14555|\n",
      "|    worldnews| 12725|\n",
      "|        funny| 10223|\n",
      "|entertainment|  9403|\n",
      "|       gaming|  9313|\n",
      "|         nsfw|  4036|\n",
      "|          WTF|  3276|\n",
      "|      offbeat|  2709|\n",
      "|   technology|  2645|\n",
      "|    Economics|  2313|\n",
      "|        obama|  1863|\n",
      "|      gadgets|  1714|\n",
      "|  environment|  1323|\n",
      "|    AskReddit|  1133|\n",
      "|       comics|  1029|\n",
      "+-------------+------+\n",
      "only showing top 20 rows\n",
      "\n"
     ]
    },
    {
     "name": "stderr",
     "output_type": "stream",
     "text": [
      "\r",
      "                                                                                \r"
     ]
    }
   ],
   "source": [
    "subCount.show()"
   ]
  },
  {
   "cell_type": "code",
   "execution_count": 15,
   "id": "437bc7e2",
   "metadata": {},
   "outputs": [],
   "source": [
    "cons = redComm1[redComm1.subreddit == 'politics']"
   ]
  },
  {
   "cell_type": "code",
   "execution_count": 17,
   "id": "99f328b3",
   "metadata": {},
   "outputs": [
    {
     "name": "stderr",
     "output_type": "stream",
     "text": [
      "                                                                                \r"
     ]
    },
    {
     "data": {
      "text/plain": [
       "[Row(body='Gore would be a powerhouse if he were running. Too bad the sonofabitch seems content to play around with Keynote.', subreddit='politics')]"
      ]
     },
     "execution_count": 17,
     "metadata": {},
     "output_type": "execute_result"
    }
   ],
   "source": [
    "cons.take(1)"
   ]
  },
  {
   "cell_type": "code",
   "execution_count": null,
   "id": "67272166",
   "metadata": {},
   "outputs": [],
   "source": []
  }
 ],
 "metadata": {
  "kernelspec": {
   "display_name": "Python 3 (ipykernel)",
   "language": "python",
   "name": "python3"
  },
  "language_info": {
   "codemirror_mode": {
    "name": "ipython",
    "version": 3
   },
   "file_extension": ".py",
   "mimetype": "text/x-python",
   "name": "python",
   "nbconvert_exporter": "python",
   "pygments_lexer": "ipython3",
   "version": "3.10.6"
  }
 },
 "nbformat": 4,
 "nbformat_minor": 5
}
