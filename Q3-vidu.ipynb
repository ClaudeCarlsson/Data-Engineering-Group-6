{
 "cells": [
  {
   "cell_type": "code",
   "execution_count": 10,
   "id": "1cbb8664",
   "metadata": {},
   "outputs": [],
   "source": [
    "from pyspark.sql import SparkSession\n",
    "\n",
    "spark_session = SparkSession.builder\\\n",
    "        .master(\"spark://192.168.2.97:7077\") \\\n",
    "        .appName(\"Q3\")\\\n",
    "        .config(\"spark.dynamicAllocation.enabled\", True)\\\n",
    "        .config(\"spark.dynamicAllocation.shuffleTracking.enabled\",True)\\\n",
    "        .config(\"spark.cores.max\", 2)\\\n",
    "        .getOrCreate()\n",
    "\n",
    "spark_context = spark_session.sparkContext\n",
    "        #.config(\"spark.jars.packages\", \"uk.co.gresearch.spark:spark-extension_2.12:2.4.0-3.3\")\\\n",
    "spark_context.setLogLevel(\"ERROR\")"
   ]
  },
  {
   "cell_type": "code",
   "execution_count": 11,
   "id": "129e5aa0",
   "metadata": {},
   "outputs": [
    {
     "name": "stderr",
     "output_type": "stream",
     "text": [
      "                                                                                \r"
     ]
    }
   ],
   "source": [
    "redComm1 = spark_session.read.json(\"hdfs://192.168.2.97:50000/user/ubuntu/RC_2008-03.json\")\n",
    "redComm2 = spark_session.read.json(\"hdfs://192.168.2.97:50000/user/ubuntu/RC_2008-04.json\")"
   ]
  },
  {
   "cell_type": "code",
   "execution_count": 12,
   "id": "004604a5",
   "metadata": {},
   "outputs": [],
   "source": [
    "subCount = redComm1.select('subreddit')\\\n",
    "    .groupBy(\"subreddit\")\\\n",
    "    .count()\\\n",
    "    .orderBy(\"count\", ascending=False)"
   ]
  },
  {
   "cell_type": "code",
   "execution_count": 13,
   "id": "df356a36",
   "metadata": {},
   "outputs": [
    {
     "name": "stderr",
     "output_type": "stream",
     "text": [
      "[Stage 9:=============================>                             (1 + 1) / 2]\r"
     ]
    },
    {
     "name": "stdout",
     "output_type": "stream",
     "text": [
      "+-------------+------+\n",
      "|    subreddit| count|\n",
      "+-------------+------+\n",
      "|   reddit.com|207092|\n",
      "|     politics| 83375|\n",
      "|  programming| 34642|\n",
      "|         pics| 25352|\n",
      "|      science| 22874|\n",
      "|     business| 14555|\n",
      "|    worldnews| 12725|\n",
      "|        funny| 10223|\n",
      "|entertainment|  9403|\n",
      "|       gaming|  9313|\n",
      "|         nsfw|  4036|\n",
      "|          WTF|  3276|\n",
      "|      offbeat|  2709|\n",
      "|   technology|  2645|\n",
      "|    Economics|  2313|\n",
      "|        obama|  1863|\n",
      "|      gadgets|  1714|\n",
      "|  environment|  1323|\n",
      "|    AskReddit|  1133|\n",
      "|       comics|  1029|\n",
      "+-------------+------+\n",
      "only showing top 20 rows\n",
      "\n"
     ]
    },
    {
     "name": "stderr",
     "output_type": "stream",
     "text": [
      "                                                                                \r"
     ]
    }
   ],
   "source": [
    "subCount.show()"
   ]
  },
  {
   "cell_type": "code",
   "execution_count": 14,
   "id": "437bc7e2",
   "metadata": {},
   "outputs": [],
   "source": [
    "cons = redComm1[redComm1.subreddit == 'politics']"
   ]
  },
  {
   "cell_type": "code",
   "execution_count": 15,
   "id": "99f328b3",
   "metadata": {},
   "outputs": [
    {
     "name": "stdout",
     "output_type": "stream",
     "text": [
      "+--------------------+---------+\n",
      "|                body|subreddit|\n",
      "+--------------------+---------+\n",
      "|Gore would be a p...| politics|\n",
      "|           [deleted]| politics|\n",
      "|Thanks for the ex...| politics|\n",
      "|      who's design? | politics|\n",
      "|&gt;&gt;I defende...| politics|\n",
      "|Well, if Pelosi d...| politics|\n",
      "|What will public ...| politics|\n",
      "|&gt; trying to hi...| politics|\n",
      "|Uh, what about th...| politics|\n",
      "|It's staunchly an...| politics|\n",
      "|That was kind of ...| politics|\n",
      "|Good point. This ...| politics|\n",
      "|pn6, anyone can l...| politics|\n",
      "|Didn't seem that ...| politics|\n",
      "|&gt; Hey there sf...| politics|\n",
      "|           [deleted]| politics|\n",
      "|that kind of thin...| politics|\n",
      "|This occured only...| politics|\n",
      "|When is someone I...| politics|\n",
      "|No.  They both st...| politics|\n",
      "+--------------------+---------+\n",
      "only showing top 20 rows\n",
      "\n"
     ]
    }
   ],
   "source": [
    "cons.show()"
   ]
  },
  {
   "cell_type": "code",
   "execution_count": 20,
   "id": "28c4425b",
   "metadata": {},
   "outputs": [
    {
     "name": "stderr",
     "output_type": "stream",
     "text": [
      "                                                                                \r"
     ]
    },
    {
     "data": {
      "text/plain": [
       "DataFrame[summary: string, body: string, subreddit: string]"
      ]
     },
     "execution_count": 20,
     "metadata": {},
     "output_type": "execute_result"
    }
   ],
   "source": [
    "cons.describe()"
   ]
  },
  {
   "cell_type": "code",
   "execution_count": 16,
   "id": "cb216e4b",
   "metadata": {},
   "outputs": [],
   "source": [
    "output = cons.take(1)"
   ]
  },
  {
   "cell_type": "code",
   "execution_count": 17,
   "id": "e09af52d",
   "metadata": {},
   "outputs": [],
   "source": [
    "first_comment = output[0].body"
   ]
  },
  {
   "cell_type": "code",
   "execution_count": 21,
   "id": "1015c82f",
   "metadata": {},
   "outputs": [
    {
     "name": "stdout",
     "output_type": "stream",
     "text": [
      "Number of comments in the politics selected subreddit:  113\n"
     ]
    }
   ],
   "source": [
    "num_politics_comments = len(first_comment)\n",
    "\n",
    "print(\"Number of comments in the politics selected subreddit: \", num_politics_comments)"
   ]
  },
  {
   "cell_type": "code",
   "execution_count": 22,
   "id": "2d19c967",
   "metadata": {},
   "outputs": [
    {
     "name": "stderr",
     "output_type": "stream",
     "text": [
      "                                                                                \r"
     ]
    },
    {
     "data": {
      "text/plain": [
       "DataFrame[summary: string, body: string, subreddit: string]"
      ]
     },
     "execution_count": 22,
     "metadata": {},
     "output_type": "execute_result"
    }
   ],
   "source": [
    "redComm1.describe()"
   ]
  },
  {
   "cell_type": "code",
   "execution_count": null,
   "id": "0e7414f9",
   "metadata": {},
   "outputs": [],
   "source": []
  }
 ],
 "metadata": {
  "kernelspec": {
   "display_name": "Python 3 (ipykernel)",
   "language": "python",
   "name": "python3"
  },
  "language_info": {
   "codemirror_mode": {
    "name": "ipython",
    "version": 3
   },
   "file_extension": ".py",
   "mimetype": "text/x-python",
   "name": "python",
   "nbconvert_exporter": "python",
   "pygments_lexer": "ipython3",
   "version": "3.10.6"
  }
 },
 "nbformat": 4,
 "nbformat_minor": 5
}
